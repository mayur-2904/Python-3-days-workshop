{
  "nbformat": 4,
  "nbformat_minor": 0,
  "metadata": {
    "colab": {
      "provenance": []
    },
    "kernelspec": {
      "name": "python3",
      "display_name": "Python 3"
    },
    "language_info": {
      "name": "python"
    }
  },
  "cells": [
    {
      "cell_type": "code",
      "execution_count": null,
      "metadata": {
        "colab": {
          "base_uri": "https://localhost:8080/"
        },
        "id": "3UM9_XkLLgJo",
        "outputId": "4c17af6f-625f-48a9-d60b-4490f122e7cd"
      },
      "outputs": [
        {
          "output_type": "stream",
          "name": "stdout",
          "text": [
            "1 \t 2 \t  3 \t  4 \t  5 \t  6  \t 7 \t  8  \t 9  \t 10\n",
            "2 \t 4 \t  6 \t  8 \t  10 \t  12  \t 14 \t  16  \t 18  \t 20\n",
            "3 \t 6 \t  9 \t  12 \t  15 \t  18  \t 21 \t  24  \t 27  \t 30\n",
            "4 \t 8 \t  12 \t  16 \t  20 \t  24  \t 28 \t  32  \t 36  \t 40\n",
            "5 \t 10 \t  15 \t  20 \t  25 \t  30  \t 35 \t  40  \t 45  \t 50\n",
            "6 \t 12 \t  18 \t  24 \t  30 \t  36  \t 42 \t  48  \t 54  \t 60\n",
            "7 \t 14 \t  21 \t  28 \t  35 \t  42  \t 49 \t  56  \t 63  \t 70\n",
            "8 \t 16 \t  24 \t  32 \t  40 \t  48  \t 56 \t  64  \t 72  \t 80\n",
            "9 \t 18 \t  27 \t  36 \t  45 \t  54  \t 63 \t  72  \t 81  \t 90\n",
            "10 \t 20 \t  30 \t  40 \t  50 \t  60  \t 70 \t  80  \t 90  \t 100\n"
          ]
        }
      ],
      "source": [
        "#1 to 10 tables\n",
        "\n",
        "for i in range (1,11):\n",
        "  print(1*i,\"\\t\",2*i,\"\\t \",3*i,\"\\t \",4*i,\"\\t \",5*i,\"\\t \",6*i,\" \\t\",7*i,\"\\t \",8*i,\" \\t\",9*i,\" \\t\",10*i)"
      ]
    },
    {
      "cell_type": "code",
      "source": [
        "#Find factorial of any number using for loop\n",
        "\n",
        "n= int (input(\"Enter no:\"))\n",
        "fact=1\n",
        "for i in range(1,n+1):\n",
        "  fact= fact*i\n",
        "print(\"Factorial is:\",fact)"
      ],
      "metadata": {
        "colab": {
          "base_uri": "https://localhost:8080/"
        },
        "id": "xhobynzkL3x5",
        "outputId": "1e47d21c-0d21-426a-d78c-97496ece5b3d"
      },
      "execution_count": null,
      "outputs": [
        {
          "output_type": "stream",
          "name": "stdout",
          "text": [
            "Enter no:6\n",
            "Factorial is: 720\n"
          ]
        }
      ]
    },
    {
      "cell_type": "code",
      "source": [
        "#Print sum of even an dodd numbers from 1 to 40 and then count\n",
        "even=0\n",
        "count1= 0\n",
        "odd=0\n",
        "count2=0\n",
        "for i in range(1,41):\n",
        "\n",
        "  if i%2==0:\n",
        "    even=even+i\n",
        "    count1+=1\n",
        "  else:\n",
        "    odd= odd+i\n",
        "    count2+=1\n",
        "\n",
        "print(f\"Sum of even numbers is: {even} and count is {count1}  and odd is : {odd} and count is {count2}\")"
      ],
      "metadata": {
        "colab": {
          "base_uri": "https://localhost:8080/"
        },
        "id": "67dgthrbL1cX",
        "outputId": "3c804468-85b3-459f-bda5-8d429f64e6e2"
      },
      "execution_count": null,
      "outputs": [
        {
          "output_type": "stream",
          "name": "stdout",
          "text": [
            "Sum of even numbers is: 420 and count is 20  and odd is : 400 and count is 20\n"
          ]
        }
      ]
    },
    {
      "cell_type": "code",
      "source": [
        "\n",
        "user_input=int(input(\"Enter no:\"))\n",
        "n1=0\n",
        "n2=1\n",
        "print(n1)\n",
        "print(n2)\n",
        "\n",
        "for i in range(user_input+1):\n",
        "  sum= n1+n2\n",
        "  print(sum)\n",
        "  n1=n2\n",
        "  n2=sum\n",
        "\n"
      ],
      "metadata": {
        "colab": {
          "base_uri": "https://localhost:8080/"
        },
        "id": "uJhzds27L1Wo",
        "outputId": "6ff0a610-1ccd-4fbf-fb49-b573704d3eb5"
      },
      "execution_count": 1,
      "outputs": [
        {
          "output_type": "stream",
          "name": "stdout",
          "text": [
            "Enter no:10\n",
            "0\n",
            "1\n",
            "1\n",
            "2\n",
            "3\n",
            "5\n",
            "8\n",
            "13\n",
            "21\n",
            "34\n",
            "55\n",
            "89\n",
            "144\n"
          ]
        }
      ]
    },
    {
      "cell_type": "code",
      "source": [
        "\n",
        "starting= int (input(\"Enter starting no:\"))\n",
        "ending= int (input(\"Enter ending no:\"))\n",
        "even=0\n",
        "odd=1\n",
        "\n",
        "for i in range (starting,ending+1):\n",
        "  if i%2==0:\n",
        "    even=even+i\n",
        "  else:\n",
        "    odd=odd*i\n",
        "\n",
        "print(\"Result:\",even+odd)"
      ],
      "metadata": {
        "colab": {
          "base_uri": "https://localhost:8080/"
        },
        "id": "_21NS0mML1Pf",
        "outputId": "73205cf7-a7c3-45b6-baa9-6c7e23b3dc19"
      },
      "execution_count": null,
      "outputs": [
        {
          "output_type": "stream",
          "name": "stdout",
          "text": [
            "Enter starting no:1\n",
            "Enter ending no:5\n",
            "Result: 21\n"
          ]
        }
      ]
    },
    {
      "cell_type": "code",
      "source": [
        "#To print sequence\n",
        "start= int (input(\"Enter starting no:\"))\n",
        "end= int (input(\"Enter ending no:\"))\n",
        "\n",
        "for i in range(start,end+1):\n",
        "  if i%2==1:\n",
        "     print(i+3,end=' ')\n",
        "  else :\n",
        "    print(i-1,end=' ')\n"
      ],
      "metadata": {
        "colab": {
          "base_uri": "https://localhost:8080/"
        },
        "id": "VOK4j1OYLy2h",
        "outputId": "58578d8f-7944-4ba3-f9c6-94ac7c49f1d0"
      },
      "execution_count": 2,
      "outputs": [
        {
          "output_type": "stream",
          "name": "stdout",
          "text": [
            "Enter starting no:1\n",
            "Enter ending no:5\n",
            "4 1 6 3 8 "
          ]
        }
      ]
    },
    {
      "cell_type": "code",
      "source": [
        "#Addition of two numbers without using \"+\" operator\n",
        "n= int(input(\"Enter the value:\"))\n",
        "x= int(input(\"Enter the value:\"))\n",
        "sum= 1\n",
        "\n",
        "for i in range(1,n+1):\n",
        "  sum=sum+((x**i)//i)\n",
        "\n",
        "print(sum)"
      ],
      "metadata": {
        "id": "ABrNiXDpLyoQ",
        "colab": {
          "base_uri": "https://localhost:8080/"
        },
        "outputId": "c8cdc2da-0a02-48c3-ebd2-f64c92473948"
      },
      "execution_count": 3,
      "outputs": [
        {
          "output_type": "stream",
          "name": "stdout",
          "text": [
            "Enter the value:1\n",
            "Enter the value:9\n",
            "10\n"
          ]
        }
      ]
    },
    {
      "cell_type": "code",
      "source": [
        "n= int(input(\"Enter the value:\"))\n",
        "x= int(input(\"Enter the value:\"))\n",
        "sum= 1\n",
        "\n",
        "\n",
        "for i in range(1,n+1):\n",
        "  fact=1\n",
        "  n=i\n",
        "  while n>0:\n",
        "    fact= fact*n\n",
        "    n=n-1\n",
        "  sum=sum+((x**i)//fact)\n",
        "\n",
        "print(sum)"
      ],
      "metadata": {
        "colab": {
          "base_uri": "https://localhost:8080/"
        },
        "id": "RKbwD_LcsEra",
        "outputId": "295eb9e7-7fc6-41e3-a477-6495ea6b25c8"
      },
      "execution_count": null,
      "outputs": [
        {
          "output_type": "stream",
          "name": "stdout",
          "text": [
            "Enter the value:1\n",
            "Enter the value:2\n",
            "3\n"
          ]
        }
      ]
    },
    {
      "cell_type": "code",
      "source": [
        "#Multiply without * operator\n",
        "x=int(input(\"Enter:\"))\n",
        "y=int(input(\"Enter:\"))\n",
        "sum=0\n",
        "for i in range(x):\n",
        "  sum=sum+y\n",
        "\n",
        "print(\"Multiplication is :\",sum)"
      ],
      "metadata": {
        "colab": {
          "base_uri": "https://localhost:8080/"
        },
        "id": "2BKelootvXK0",
        "outputId": "e59d90e8-750f-4668-bc0c-b3afb725d142"
      },
      "execution_count": null,
      "outputs": [
        {
          "output_type": "stream",
          "name": "stdout",
          "text": [
            "Enter:3\n",
            "Enter:2\n",
            "Multiplication is : 6\n"
          ]
        }
      ]
    },
    {
      "cell_type": "code",
      "source": [
        "#Logic for power\n",
        "x=int(input(\"Enter:\"))\n",
        "y=int(input(\"Enter:\"))\n",
        "sum=1\n",
        "for i in range(x):\n",
        "  sum=sum*y\n",
        "\n",
        "print(\"Multiplication is :\",sum)"
      ],
      "metadata": {
        "colab": {
          "base_uri": "https://localhost:8080/"
        },
        "id": "Z3SDGfJuw0by",
        "outputId": "8ea285e8-1784-4860-849d-bcc901e283e0"
      },
      "execution_count": null,
      "outputs": [
        {
          "output_type": "stream",
          "name": "stdout",
          "text": [
            "Enter:3\n",
            "Enter:2\n",
            "Multiplication is : 8\n"
          ]
        }
      ]
    },
    {
      "cell_type": "code",
      "source": [
        "#to check peterson number\n",
        "num = int(input(\"Enter a number: \"))\n",
        "original_num = num\n",
        "sum = 0\n",
        "\n",
        "while num > 0:\n",
        "    digit = num % 10\n",
        "    factorial = 1\n",
        "\n",
        "    for i in range(1, digit + 1):\n",
        "        factorial *= i\n",
        "\n",
        "    sum += factorial\n",
        "    num //= 10\n",
        "\n",
        "\n",
        "if sum == original_num:\n",
        "    print(f\"{original_num} is a Peterson number.\")\n",
        "else:\n",
        "    print(f\"{original_num} is not a Peterson number.\")\n",
        "\n"
      ],
      "metadata": {
        "colab": {
          "base_uri": "https://localhost:8080/"
        },
        "id": "5EQbD4Fqxs16",
        "outputId": "0d117908-2492-41a7-f347-5bbbd4e08d8b"
      },
      "execution_count": 1,
      "outputs": [
        {
          "output_type": "stream",
          "name": "stdout",
          "text": [
            "Enter a number: 145\n",
            "145 is a Peterson number.\n"
          ]
        }
      ]
    },
    {
      "cell_type": "code",
      "source": [
        "\n",
        "for i in range(1,11):\n",
        "  if i==5:\n",
        "    break\n",
        "  print(i)"
      ],
      "metadata": {
        "colab": {
          "base_uri": "https://localhost:8080/"
        },
        "id": "iphnBrv-BTKW",
        "outputId": "cc1d65c5-9841-4d92-dfd9-85d1ae5d0d11"
      },
      "execution_count": null,
      "outputs": [
        {
          "output_type": "stream",
          "name": "stdout",
          "text": [
            "1\n",
            "2\n",
            "3\n",
            "4\n"
          ]
        }
      ]
    },
    {
      "cell_type": "code",
      "source": [
        "for i in range(1,11):\n",
        "  if i==5:\n",
        "    continue\n",
        "  print(i)"
      ],
      "metadata": {
        "colab": {
          "base_uri": "https://localhost:8080/"
        },
        "id": "-2cPPUGSCqmF",
        "outputId": "f6c6b7f4-65c0-4388-aa9c-285fde32d786"
      },
      "execution_count": null,
      "outputs": [
        {
          "output_type": "stream",
          "name": "stdout",
          "text": [
            "1\n",
            "2\n",
            "3\n",
            "4\n",
            "6\n",
            "7\n",
            "8\n",
            "9\n",
            "10\n"
          ]
        }
      ]
    },
    {
      "cell_type": "code",
      "source": [
        "\n",
        "\n",
        "for i in range (1,11):\n",
        "  if i==3 or i==8:\n",
        "    continue\n",
        "    while i<=5:\n",
        "      n1=i\n",
        "      print(n1)\n",
        "      i+=1\n",
        "    while i<=10:\n",
        "      n2=i\n",
        "      print(n2)\n",
        "\n",
        "print(n1,\" \",n2)"
      ],
      "metadata": {
        "colab": {
          "base_uri": "https://localhost:8080/"
        },
        "id": "OwBO4FjvD-MC",
        "outputId": "ffdac418-b595-4b9b-8064-eb20d27dc830"
      },
      "execution_count": null,
      "outputs": [
        {
          "output_type": "stream",
          "name": "stdout",
          "text": [
            "0   0\n"
          ]
        }
      ]
    },
    {
      "cell_type": "code",
      "source": [
        "j=10\n",
        "\n",
        "for i in range(1,6):\n",
        "  if i==3 :\n",
        "     j-=1\n",
        "     continue\n",
        "  else:\n",
        "    print(i,\"\\t\",j)\n",
        "    j-=1\n",
        "\n"
      ],
      "metadata": {
        "colab": {
          "base_uri": "https://localhost:8080/"
        },
        "id": "MeWFv7zgGXjo",
        "outputId": "27f31cc4-c3c6-4788-8d70-3a4855eac6fd"
      },
      "execution_count": null,
      "outputs": [
        {
          "output_type": "stream",
          "name": "stdout",
          "text": [
            "1 \t 10\n",
            "2 \t 9\n",
            "4 \t 7\n",
            "5 \t 6\n"
          ]
        }
      ]
    },
    {
      "cell_type": "code",
      "source": [
        "#print 1 to 15\n",
        "for i in range (1,16):\n",
        "  print(i)"
      ],
      "metadata": {
        "colab": {
          "base_uri": "https://localhost:8080/"
        },
        "id": "iNZfUziXLKrD",
        "outputId": "13e6b4bc-8b64-476a-bcd8-7ee8f6bb2ed4"
      },
      "execution_count": null,
      "outputs": [
        {
          "output_type": "stream",
          "name": "stdout",
          "text": [
            "1\n",
            "2\n",
            "3\n",
            "4\n",
            "5\n",
            "6\n",
            "7\n",
            "8\n",
            "9\n",
            "10\n",
            "11\n",
            "12\n",
            "13\n",
            "14\n",
            "15\n"
          ]
        }
      ]
    },
    {
      "cell_type": "code",
      "source": [
        "#print 10 to 1\n",
        "for i in range(10,0,-1):\n",
        "  print(i)"
      ],
      "metadata": {
        "colab": {
          "base_uri": "https://localhost:8080/"
        },
        "id": "hWyMxvQ4Mfjl",
        "outputId": "4c2fe440-529a-499a-b6a3-10693d954e69"
      },
      "execution_count": null,
      "outputs": [
        {
          "output_type": "stream",
          "name": "stdout",
          "text": [
            "10\n",
            "9\n",
            "8\n",
            "7\n",
            "6\n",
            "5\n",
            "4\n",
            "3\n",
            "2\n",
            "1\n"
          ]
        }
      ]
    },
    {
      "cell_type": "code",
      "source": [
        "#Sum of first even numbers\n",
        "n= int (input(\"Enter no:\"))\n",
        "sum=0\n",
        "\n",
        "for i in range (1,n+1):\n",
        "  if i%2==0:\n",
        "    sum=sum+i\n",
        "print(sum)\n"
      ],
      "metadata": {
        "colab": {
          "base_uri": "https://localhost:8080/"
        },
        "id": "WA43VT90Mre-",
        "outputId": "4bd73a26-f6e3-42cc-f2f7-f09ef31f92e7"
      },
      "execution_count": null,
      "outputs": [
        {
          "output_type": "stream",
          "name": "stdout",
          "text": [
            "Enter no:5\n",
            "6\n"
          ]
        }
      ]
    },
    {
      "cell_type": "code",
      "source": [
        "#print all factorials from 1 to 10\n",
        "\n",
        "fact=1\n",
        "for i in range (1,11):\n",
        "  fact= fact*i\n",
        "  print(f\"Factorial of {i} is {fact}\")\n"
      ],
      "metadata": {
        "colab": {
          "base_uri": "https://localhost:8080/"
        },
        "id": "yzJU6puzNTqo",
        "outputId": "a404a989-bfd8-4cff-ba2c-c3c335522849"
      },
      "execution_count": null,
      "outputs": [
        {
          "output_type": "stream",
          "name": "stdout",
          "text": [
            "Factorial of 1 is 1\n",
            "Factorial of 2 is 2\n",
            "Factorial of 3 is 6\n",
            "Factorial of 4 is 24\n",
            "Factorial of 5 is 120\n",
            "Factorial of 6 is 720\n",
            "Factorial of 7 is 5040\n",
            "Factorial of 8 is 40320\n",
            "Factorial of 9 is 362880\n",
            "Factorial of 10 is 3628800\n"
          ]
        }
      ]
    },
    {
      "cell_type": "code",
      "source": [
        "#print all sqrt of 1 to 100 numbers\n",
        "import math\n",
        "\n",
        "for i in range(1,101):\n",
        "  print(f\"Square root of {i} is {math.sqrt(i)}\")"
      ],
      "metadata": {
        "colab": {
          "base_uri": "https://localhost:8080/"
        },
        "id": "vcFh6Nl0O5EH",
        "outputId": "e5cae4a0-28e6-4bba-86d4-b00f1e12d2ad"
      },
      "execution_count": null,
      "outputs": [
        {
          "output_type": "stream",
          "name": "stdout",
          "text": [
            "Square root of 1 is 1.0\n",
            "Square root of 2 is 1.4142135623730951\n",
            "Square root of 3 is 1.7320508075688772\n",
            "Square root of 4 is 2.0\n",
            "Square root of 5 is 2.23606797749979\n",
            "Square root of 6 is 2.449489742783178\n",
            "Square root of 7 is 2.6457513110645907\n",
            "Square root of 8 is 2.8284271247461903\n",
            "Square root of 9 is 3.0\n",
            "Square root of 10 is 3.1622776601683795\n",
            "Square root of 11 is 3.3166247903554\n",
            "Square root of 12 is 3.4641016151377544\n",
            "Square root of 13 is 3.605551275463989\n",
            "Square root of 14 is 3.7416573867739413\n",
            "Square root of 15 is 3.872983346207417\n",
            "Square root of 16 is 4.0\n",
            "Square root of 17 is 4.123105625617661\n",
            "Square root of 18 is 4.242640687119285\n",
            "Square root of 19 is 4.358898943540674\n",
            "Square root of 20 is 4.47213595499958\n",
            "Square root of 21 is 4.58257569495584\n",
            "Square root of 22 is 4.69041575982343\n",
            "Square root of 23 is 4.795831523312719\n",
            "Square root of 24 is 4.898979485566356\n",
            "Square root of 25 is 5.0\n",
            "Square root of 26 is 5.0990195135927845\n",
            "Square root of 27 is 5.196152422706632\n",
            "Square root of 28 is 5.291502622129181\n",
            "Square root of 29 is 5.385164807134504\n",
            "Square root of 30 is 5.477225575051661\n",
            "Square root of 31 is 5.5677643628300215\n",
            "Square root of 32 is 5.656854249492381\n",
            "Square root of 33 is 5.744562646538029\n",
            "Square root of 34 is 5.830951894845301\n",
            "Square root of 35 is 5.916079783099616\n",
            "Square root of 36 is 6.0\n",
            "Square root of 37 is 6.082762530298219\n",
            "Square root of 38 is 6.164414002968976\n",
            "Square root of 39 is 6.244997998398398\n",
            "Square root of 40 is 6.324555320336759\n",
            "Square root of 41 is 6.4031242374328485\n",
            "Square root of 42 is 6.48074069840786\n",
            "Square root of 43 is 6.557438524302\n",
            "Square root of 44 is 6.6332495807108\n",
            "Square root of 45 is 6.708203932499369\n",
            "Square root of 46 is 6.782329983125268\n",
            "Square root of 47 is 6.855654600401044\n",
            "Square root of 48 is 6.928203230275509\n",
            "Square root of 49 is 7.0\n",
            "Square root of 50 is 7.0710678118654755\n",
            "Square root of 51 is 7.14142842854285\n",
            "Square root of 52 is 7.211102550927978\n",
            "Square root of 53 is 7.280109889280518\n",
            "Square root of 54 is 7.3484692283495345\n",
            "Square root of 55 is 7.416198487095663\n",
            "Square root of 56 is 7.483314773547883\n",
            "Square root of 57 is 7.54983443527075\n",
            "Square root of 58 is 7.615773105863909\n",
            "Square root of 59 is 7.681145747868608\n",
            "Square root of 60 is 7.745966692414834\n",
            "Square root of 61 is 7.810249675906654\n",
            "Square root of 62 is 7.874007874011811\n",
            "Square root of 63 is 7.937253933193772\n",
            "Square root of 64 is 8.0\n",
            "Square root of 65 is 8.06225774829855\n",
            "Square root of 66 is 8.12403840463596\n",
            "Square root of 67 is 8.18535277187245\n",
            "Square root of 68 is 8.246211251235321\n",
            "Square root of 69 is 8.306623862918075\n",
            "Square root of 70 is 8.366600265340756\n",
            "Square root of 71 is 8.426149773176359\n",
            "Square root of 72 is 8.48528137423857\n",
            "Square root of 73 is 8.54400374531753\n",
            "Square root of 74 is 8.602325267042627\n",
            "Square root of 75 is 8.660254037844387\n",
            "Square root of 76 is 8.717797887081348\n",
            "Square root of 77 is 8.774964387392123\n",
            "Square root of 78 is 8.831760866327848\n",
            "Square root of 79 is 8.888194417315589\n",
            "Square root of 80 is 8.94427190999916\n",
            "Square root of 81 is 9.0\n",
            "Square root of 82 is 9.055385138137417\n",
            "Square root of 83 is 9.1104335791443\n",
            "Square root of 84 is 9.16515138991168\n",
            "Square root of 85 is 9.219544457292887\n",
            "Square root of 86 is 9.273618495495704\n",
            "Square root of 87 is 9.327379053088816\n",
            "Square root of 88 is 9.38083151964686\n",
            "Square root of 89 is 9.433981132056603\n",
            "Square root of 90 is 9.486832980505138\n",
            "Square root of 91 is 9.539392014169456\n",
            "Square root of 92 is 9.591663046625438\n",
            "Square root of 93 is 9.643650760992955\n",
            "Square root of 94 is 9.695359714832659\n",
            "Square root of 95 is 9.746794344808963\n",
            "Square root of 96 is 9.797958971132712\n",
            "Square root of 97 is 9.848857801796104\n",
            "Square root of 98 is 9.899494936611665\n",
            "Square root of 99 is 9.9498743710662\n",
            "Square root of 100 is 10.0\n"
          ]
        }
      ]
    },
    {
      "cell_type": "code",
      "source": [
        " #print all 1 to 1000 which are no tdivisible by 2,3,5\n",
        " for i in range (1,1001):\n",
        "  if i%2==0 or i%3==0 or i%5==0:\n",
        "    continue\n",
        "  else:\n",
        "    print(i)"
      ],
      "metadata": {
        "colab": {
          "base_uri": "https://localhost:8080/"
        },
        "id": "iwm37X9CQZNf",
        "outputId": "1b4366be-2032-4269-fe32-efe703c895d2"
      },
      "execution_count": null,
      "outputs": [
        {
          "output_type": "stream",
          "name": "stdout",
          "text": [
            "1\n",
            "7\n",
            "11\n",
            "13\n",
            "17\n",
            "19\n",
            "23\n",
            "29\n",
            "31\n",
            "37\n",
            "41\n",
            "43\n",
            "47\n",
            "49\n",
            "53\n",
            "59\n",
            "61\n",
            "67\n",
            "71\n",
            "73\n",
            "77\n",
            "79\n",
            "83\n",
            "89\n",
            "91\n",
            "97\n",
            "101\n",
            "103\n",
            "107\n",
            "109\n",
            "113\n",
            "119\n",
            "121\n",
            "127\n",
            "131\n",
            "133\n",
            "137\n",
            "139\n",
            "143\n",
            "149\n",
            "151\n",
            "157\n",
            "161\n",
            "163\n",
            "167\n",
            "169\n",
            "173\n",
            "179\n",
            "181\n",
            "187\n",
            "191\n",
            "193\n",
            "197\n",
            "199\n",
            "203\n",
            "209\n",
            "211\n",
            "217\n",
            "221\n",
            "223\n",
            "227\n",
            "229\n",
            "233\n",
            "239\n",
            "241\n",
            "247\n",
            "251\n",
            "253\n",
            "257\n",
            "259\n",
            "263\n",
            "269\n",
            "271\n",
            "277\n",
            "281\n",
            "283\n",
            "287\n",
            "289\n",
            "293\n",
            "299\n",
            "301\n",
            "307\n",
            "311\n",
            "313\n",
            "317\n",
            "319\n",
            "323\n",
            "329\n",
            "331\n",
            "337\n",
            "341\n",
            "343\n",
            "347\n",
            "349\n",
            "353\n",
            "359\n",
            "361\n",
            "367\n",
            "371\n",
            "373\n",
            "377\n",
            "379\n",
            "383\n",
            "389\n",
            "391\n",
            "397\n",
            "401\n",
            "403\n",
            "407\n",
            "409\n",
            "413\n",
            "419\n",
            "421\n",
            "427\n",
            "431\n",
            "433\n",
            "437\n",
            "439\n",
            "443\n",
            "449\n",
            "451\n",
            "457\n",
            "461\n",
            "463\n",
            "467\n",
            "469\n",
            "473\n",
            "479\n",
            "481\n",
            "487\n",
            "491\n",
            "493\n",
            "497\n",
            "499\n",
            "503\n",
            "509\n",
            "511\n",
            "517\n",
            "521\n",
            "523\n",
            "527\n",
            "529\n",
            "533\n",
            "539\n",
            "541\n",
            "547\n",
            "551\n",
            "553\n",
            "557\n",
            "559\n",
            "563\n",
            "569\n",
            "571\n",
            "577\n",
            "581\n",
            "583\n",
            "587\n",
            "589\n",
            "593\n",
            "599\n",
            "601\n",
            "607\n",
            "611\n",
            "613\n",
            "617\n",
            "619\n",
            "623\n",
            "629\n",
            "631\n",
            "637\n",
            "641\n",
            "643\n",
            "647\n",
            "649\n",
            "653\n",
            "659\n",
            "661\n",
            "667\n",
            "671\n",
            "673\n",
            "677\n",
            "679\n",
            "683\n",
            "689\n",
            "691\n",
            "697\n",
            "701\n",
            "703\n",
            "707\n",
            "709\n",
            "713\n",
            "719\n",
            "721\n",
            "727\n",
            "731\n",
            "733\n",
            "737\n",
            "739\n",
            "743\n",
            "749\n",
            "751\n",
            "757\n",
            "761\n",
            "763\n",
            "767\n",
            "769\n",
            "773\n",
            "779\n",
            "781\n",
            "787\n",
            "791\n",
            "793\n",
            "797\n",
            "799\n",
            "803\n",
            "809\n",
            "811\n",
            "817\n",
            "821\n",
            "823\n",
            "827\n",
            "829\n",
            "833\n",
            "839\n",
            "841\n",
            "847\n",
            "851\n",
            "853\n",
            "857\n",
            "859\n",
            "863\n",
            "869\n",
            "871\n",
            "877\n",
            "881\n",
            "883\n",
            "887\n",
            "889\n",
            "893\n",
            "899\n",
            "901\n",
            "907\n",
            "911\n",
            "913\n",
            "917\n",
            "919\n",
            "923\n",
            "929\n",
            "931\n",
            "937\n",
            "941\n",
            "943\n",
            "947\n",
            "949\n",
            "953\n",
            "959\n",
            "961\n",
            "967\n",
            "971\n",
            "973\n",
            "977\n",
            "979\n",
            "983\n",
            "989\n",
            "991\n",
            "997\n"
          ]
        }
      ]
    },
    {
      "cell_type": "code",
      "source": [
        "#Calculator\n",
        "\n",
        "import sys\n",
        "while True:\n",
        "  x= int (input (\"Enter 1st no:\"))\n",
        "  y= int (input (\"Enter 2nd no:\"))\n",
        "\n",
        "  print(\"1. ADDITION\")\n",
        "  print(\"2. SUBTRACTION\")\n",
        "  print(\"3. MULTIPLICATION\")\n",
        "  print(\"4. DIVISION\")\n",
        "  print(\"5. EXIT\")\n",
        "\n",
        "  n= input(\"Enter Your Choice:\")\n",
        "\n",
        "  if n==\"1\":\n",
        "     res= x+y\n",
        "     print(\"Addition is :\",res)\n",
        "     print(\"_ _ _ _ _ _ _ _ _ _ _ _ _ _ _ _ _\")\n",
        "  elif n==\"2\":\n",
        "     res= x-y\n",
        "     print(\"Subtraction is :\",res)\n",
        "     print(\"_ _ _ _ _ _ _ _ _ _ _ _ _ _ _ _ _\")\n",
        "  elif n==\"3\":\n",
        "     res= x*y\n",
        "     print(\"Multiplication is :\",res)\n",
        "     print(\"_ _ _ _ _ _ _ _ _ _ _ _ _ _ _ _ _\")\n",
        "  elif n==\"4\":\n",
        "     res= x/y\n",
        "     print(\"Division is :\",res)\n",
        "     print(\"_ _ _ _ _ _ _ _ _ _ _ _ _ _ _ _ _\")\n",
        "  elif n==\"5\":\n",
        "    #  sys.exit(0)\n",
        "    print(\"Thanks for use my aplication!\")\n",
        "    break\n",
        "\n"
      ],
      "metadata": {
        "colab": {
          "base_uri": "https://localhost:8080/"
        },
        "id": "S5OHvQfIQ0h7",
        "outputId": "0bf4de96-fbae-4812-af09-fa4a4514a732"
      },
      "execution_count": 6,
      "outputs": [
        {
          "output_type": "stream",
          "name": "stdout",
          "text": [
            "Enter 1st no:4\n",
            "Enter 2nd no:5\n",
            "1. ADDITION\n",
            "2. SUBTRACTION\n",
            "3. MULTIPLICATION\n",
            "4. DIVISION\n",
            "5. EXIT\n",
            "Enter Your Choice:1\n",
            "Addition is : 9\n",
            "_ _ _ _ _ _ _ _ _ _ _ _ _ _ _ _ _\n",
            "Enter 1st no:5\n",
            "Enter 2nd no:6\n",
            "1. ADDITION\n",
            "2. SUBTRACTION\n",
            "3. MULTIPLICATION\n",
            "4. DIVISION\n",
            "5. EXIT\n",
            "Enter Your Choice:3\n",
            "Multiplication is : 30\n",
            "_ _ _ _ _ _ _ _ _ _ _ _ _ _ _ _ _\n",
            "Enter 1st no:5\n",
            "Enter 2nd no:64\n",
            "1. ADDITION\n",
            "2. SUBTRACTION\n",
            "3. MULTIPLICATION\n",
            "4. DIVISION\n",
            "5. EXIT\n",
            "Enter Your Choice:5\n",
            "Thanks for use my aplication!\n"
          ]
        }
      ]
    },
    {
      "cell_type": "code",
      "source": [
        " for i in range (1,5):    #<--rows\n",
        "  for j in range(1,5):    #<--colmn\n",
        "    print(j,end=\" \")\n",
        "  print()"
      ],
      "metadata": {
        "colab": {
          "base_uri": "https://localhost:8080/"
        },
        "id": "9A5ctwALX_UF",
        "outputId": "670763ac-0ae0-4e58-d56d-48993ca8aba5"
      },
      "execution_count": null,
      "outputs": [
        {
          "output_type": "stream",
          "name": "stdout",
          "text": [
            "1 2 3 4 \n",
            "1 2 3 4 \n",
            "1 2 3 4 \n",
            "1 2 3 4 \n"
          ]
        }
      ]
    },
    {
      "cell_type": "code",
      "source": [
        "for i in range (1,5):\n",
        "  for j in range(1,5):\n",
        "    print(i,end=\" \")\n",
        "  print()"
      ],
      "metadata": {
        "colab": {
          "base_uri": "https://localhost:8080/"
        },
        "id": "QNfIYa3ziKf7",
        "outputId": "aa3a6214-6572-4576-ab11-beb9243e503d"
      },
      "execution_count": null,
      "outputs": [
        {
          "output_type": "stream",
          "name": "stdout",
          "text": [
            "1 1 1 1 \n",
            "2 2 2 2 \n",
            "3 3 3 3 \n",
            "4 4 4 4 \n"
          ]
        }
      ]
    },
    {
      "cell_type": "code",
      "source": [
        "n=1\n",
        "for i in range (1,5):\n",
        "  for j in range(1,5):\n",
        "    print(n,end=\" \")\n",
        "    n+=1\n",
        "  print()"
      ],
      "metadata": {
        "colab": {
          "base_uri": "https://localhost:8080/"
        },
        "id": "HhJ0uyH9iSoK",
        "outputId": "bb234286-ba23-47e3-b823-7971f6efebd6"
      },
      "execution_count": null,
      "outputs": [
        {
          "output_type": "stream",
          "name": "stdout",
          "text": [
            "1 2 3 4 \n",
            "5 6 7 8 \n",
            "9 10 11 12 \n",
            "13 14 15 16 \n"
          ]
        }
      ]
    },
    {
      "cell_type": "markdown",
      "source": [
        "A- 65  . a-97  . 0-48\n",
        "\n",
        "b- 66  . b-98  . 1-49"
      ],
      "metadata": {
        "id": "UyBJi_CkjxJp"
      }
    },
    {
      "cell_type": "code",
      "source": [
        "n=65\n",
        "for i in range (1,5):\n",
        "  for j in range(1,5):\n",
        "    print(chr(n),end=\" \\t\")\n",
        "    n=n+1\n",
        "  print()"
      ],
      "metadata": {
        "colab": {
          "base_uri": "https://localhost:8080/"
        },
        "id": "CSTE-ulIiuD6",
        "outputId": "caa2c89f-0a91-486d-8975-ab8161a04df9"
      },
      "execution_count": null,
      "outputs": [
        {
          "output_type": "stream",
          "name": "stdout",
          "text": [
            "A \tB \tC \tD \t\n",
            "E \tF \tG \tH \t\n",
            "I \tJ \tK \tL \t\n",
            "M \tN \tO \tP \t\n"
          ]
        }
      ]
    },
    {
      "cell_type": "code",
      "source": [
        "for i in range (1,5):\n",
        "  for j in range(1,i+1):\n",
        "    print(i,end=\" \\t\")\n",
        "\n",
        "  print()"
      ],
      "metadata": {
        "colab": {
          "base_uri": "https://localhost:8080/"
        },
        "id": "GNYnoFkZkedB",
        "outputId": "fa4f188a-23b6-4b37-8380-3c603f83348e"
      },
      "execution_count": null,
      "outputs": [
        {
          "output_type": "stream",
          "name": "stdout",
          "text": [
            "1 \t\n",
            "2 \t2 \t\n",
            "3 \t3 \t3 \t\n",
            "4 \t4 \t4 \t4 \t\n"
          ]
        }
      ]
    },
    {
      "cell_type": "code",
      "source": [
        "for i in range (1,5):\n",
        "  for j in range(1,i+1):\n",
        "    print(j,end=\" \\t\")\n",
        "\n",
        "  print()"
      ],
      "metadata": {
        "colab": {
          "base_uri": "https://localhost:8080/"
        },
        "id": "NkgQQ5QFldAJ",
        "outputId": "62242c99-4b22-4315-baf5-12bffb29d5e5"
      },
      "execution_count": null,
      "outputs": [
        {
          "output_type": "stream",
          "name": "stdout",
          "text": [
            "1 \t\n",
            "1 \t2 \t\n",
            "1 \t2 \t3 \t\n",
            "1 \t2 \t3 \t4 \t\n"
          ]
        }
      ]
    },
    {
      "cell_type": "code",
      "source": [
        "for i in range (1,5):\n",
        "  for j in range(1,i+1):\n",
        "    print(\"*\",end=\" \\t\")\n",
        "\n",
        "  print()"
      ],
      "metadata": {
        "colab": {
          "base_uri": "https://localhost:8080/"
        },
        "id": "r62g0B9klk3X",
        "outputId": "00216772-7be3-4fa2-fdf7-83d51a82e653"
      },
      "execution_count": null,
      "outputs": [
        {
          "output_type": "stream",
          "name": "stdout",
          "text": [
            "* \t\n",
            "* \t* \t\n",
            "* \t* \t* \t\n",
            "* \t* \t* \t* \t\n"
          ]
        }
      ]
    },
    {
      "cell_type": "code",
      "source": [
        "for i in range (4,0,-1):\n",
        "  for j in range(1,i+1):\n",
        "    print(\"*\",end=\" \\t\")\n",
        "\n",
        "  print()"
      ],
      "metadata": {
        "colab": {
          "base_uri": "https://localhost:8080/"
        },
        "id": "_5-GhOTllyto",
        "outputId": "a90ecda9-ecb0-4a0a-dbbd-ab6defcfb12a"
      },
      "execution_count": null,
      "outputs": [
        {
          "output_type": "stream",
          "name": "stdout",
          "text": [
            "* \t* \t* \t* \t\n",
            "* \t* \t* \t\n",
            "* \t* \t\n",
            "* \t\n"
          ]
        }
      ]
    },
    {
      "cell_type": "code",
      "source": [
        "for row in range (1,4):\n",
        "  for col in range (1,4):\n",
        "    print((row*10)+col,end=' ')\n",
        "  print()\n"
      ],
      "metadata": {
        "colab": {
          "base_uri": "https://localhost:8080/"
        },
        "id": "BA9XmN9qnHpP",
        "outputId": "53bc38a7-22e7-479c-b987-9ea5c8571ccc"
      },
      "execution_count": null,
      "outputs": [
        {
          "output_type": "stream",
          "name": "stdout",
          "text": [
            "11 12 13 \n",
            "21 22 23 \n",
            "31 32 33 \n"
          ]
        }
      ]
    },
    {
      "cell_type": "code",
      "source": [
        "for row in range (1,5):\n",
        "  for col in range (1,5):\n",
        "    if row%2==1:\n",
        "      print(\"1\",end=' ')\n",
        "    else:\n",
        "      print(\"0\",end = ' ')\n",
        "\n",
        "  print()"
      ],
      "metadata": {
        "colab": {
          "base_uri": "https://localhost:8080/"
        },
        "id": "DBDpIRHVnHjF",
        "outputId": "9aec308f-f1a4-48f2-c6a7-1e2aaa1c32fd"
      },
      "execution_count": null,
      "outputs": [
        {
          "output_type": "stream",
          "name": "stdout",
          "text": [
            "1 1 1 1 \n",
            "0 0 0 0 \n",
            "1 1 1 1 \n",
            "0 0 0 0 \n"
          ]
        }
      ]
    },
    {
      "cell_type": "code",
      "source": [
        "for row in range (1,5):\n",
        "  for col in range (1,5):\n",
        "    print(row%2,end= \" \")\n",
        "\n",
        "  print()"
      ],
      "metadata": {
        "colab": {
          "base_uri": "https://localhost:8080/"
        },
        "id": "2tgjtuFynHFO",
        "outputId": "6cc21d2c-5475-404a-b23c-bddb72c45f78"
      },
      "execution_count": null,
      "outputs": [
        {
          "output_type": "stream",
          "name": "stdout",
          "text": [
            "1 1 1 1 \n",
            "0 0 0 0 \n",
            "1 1 1 1 \n",
            "0 0 0 0 \n"
          ]
        }
      ]
    },
    {
      "cell_type": "code",
      "source": [
        "for row in range (1,5):\n",
        "  for col in range (1,5):\n",
        "    print(col%2,end= \" \")\n",
        "\n",
        "  print()"
      ],
      "metadata": {
        "colab": {
          "base_uri": "https://localhost:8080/"
        },
        "id": "qDAwMAE1vPd0",
        "outputId": "033bbdca-b80b-4d5b-eaeb-e18fb6ec0119"
      },
      "execution_count": null,
      "outputs": [
        {
          "output_type": "stream",
          "name": "stdout",
          "text": [
            "1 0 1 0 \n",
            "1 0 1 0 \n",
            "1 0 1 0 \n",
            "1 0 1 0 \n"
          ]
        }
      ]
    },
    {
      "cell_type": "code",
      "source": [
        "for row in range (1,5):\n",
        "  for col in range (1,row):\n",
        "    print(col%2,end= \" \")\n",
        "\n",
        "  print()"
      ],
      "metadata": {
        "colab": {
          "base_uri": "https://localhost:8080/"
        },
        "id": "ElURO-_7wEQV",
        "outputId": "89c2be78-70f3-493c-d1fb-cc635727bef5"
      },
      "execution_count": null,
      "outputs": [
        {
          "output_type": "stream",
          "name": "stdout",
          "text": [
            "\n",
            "1 \n",
            "1 0 \n",
            "1 0 1 \n"
          ]
        }
      ]
    },
    {
      "cell_type": "code",
      "source": [
        "for row in range (1,5):\n",
        "  for col in range (1,row+1):\n",
        "    print(col%2,end= \" \")\n",
        "\n",
        "  print()"
      ],
      "metadata": {
        "colab": {
          "base_uri": "https://localhost:8080/"
        },
        "id": "P2y7Id1iwO-0",
        "outputId": "db71521b-628a-4105-cb0c-6df4116da782"
      },
      "execution_count": null,
      "outputs": [
        {
          "output_type": "stream",
          "name": "stdout",
          "text": [
            "1 \n",
            "1 0 \n",
            "1 0 1 \n",
            "1 0 1 0 \n"
          ]
        }
      ]
    },
    {
      "cell_type": "code",
      "source": [
        "for row in range (1,5):\n",
        "  print(\" * \"*row)"
      ],
      "metadata": {
        "colab": {
          "base_uri": "https://localhost:8080/"
        },
        "id": "-PKgbjr1wmmL",
        "outputId": "0edfebc8-b3a6-4c7e-825b-f4acae1bfae1"
      },
      "execution_count": null,
      "outputs": [
        {
          "output_type": "stream",
          "name": "stdout",
          "text": [
            " * \n",
            " *  * \n",
            " *  *  * \n",
            " *  *  *  * \n"
          ]
        }
      ]
    },
    {
      "cell_type": "code",
      "source": [
        "for row in range(3,0,-1):\n",
        "  print(\" * \"*row)"
      ],
      "metadata": {
        "colab": {
          "base_uri": "https://localhost:8080/"
        },
        "id": "vC5G-rERyELa",
        "outputId": "447f8aea-dcd9-4fcf-e03e-b364dacbe346"
      },
      "execution_count": null,
      "outputs": [
        {
          "output_type": "stream",
          "name": "stdout",
          "text": [
            " *  *  * \n",
            " *  * \n",
            " * \n"
          ]
        }
      ]
    },
    {
      "cell_type": "code",
      "source": [
        "for row in range(1,4):\n",
        "  for col in range(1,4):\n",
        "    if row==1 or col==1 or row==3 or col==3:\n",
        "      print(\"*\", end = ' ')\n",
        "    else:\n",
        "      print(\" \", end= \" \")\n",
        "  print()"
      ],
      "metadata": {
        "colab": {
          "base_uri": "https://localhost:8080/"
        },
        "id": "MwlEp20PyZij",
        "outputId": "bc6e442d-aa43-4e59-e240-739bc023dacf"
      },
      "execution_count": null,
      "outputs": [
        {
          "output_type": "stream",
          "name": "stdout",
          "text": [
            "* * * \n",
            "*   * \n",
            "* * * \n"
          ]
        }
      ]
    },
    {
      "cell_type": "code",
      "source": [
        "for row in range(1,5):\n",
        "  for col in range(1,5):\n",
        "    if row==1 or col==1 or row==4 or col==4 or row==col:\n",
        "      print(\"*\", end = ' ')\n",
        "    else:\n",
        "      print(\" \", end= \" \")\n",
        "  print()"
      ],
      "metadata": {
        "colab": {
          "base_uri": "https://localhost:8080/"
        },
        "id": "I5zo7K-YyZYi",
        "outputId": "27edf6c9-4e95-4740-c2c8-a53a51623811"
      },
      "execution_count": null,
      "outputs": [
        {
          "output_type": "stream",
          "name": "stdout",
          "text": [
            "* * * * \n",
            "* *   * \n",
            "*   * * \n",
            "* * * * \n"
          ]
        }
      ]
    },
    {
      "cell_type": "code",
      "source": [
        "for x in range (1,6):\n",
        "  print(\" \"*(6-x),\"* \"*x)"
      ],
      "metadata": {
        "colab": {
          "base_uri": "https://localhost:8080/"
        },
        "id": "xKxPev-f2iSG",
        "outputId": "e3f80b52-9c39-471a-e7d2-9aa1087fafdb"
      },
      "execution_count": null,
      "outputs": [
        {
          "output_type": "stream",
          "name": "stdout",
          "text": [
            "      * \n",
            "     * * \n",
            "    * * * \n",
            "   * * * * \n",
            "  * * * * * \n"
          ]
        }
      ]
    },
    {
      "cell_type": "code",
      "source": [],
      "metadata": {
        "id": "DaXMeZs-3kVs"
      },
      "execution_count": null,
      "outputs": []
    }
  ]
}