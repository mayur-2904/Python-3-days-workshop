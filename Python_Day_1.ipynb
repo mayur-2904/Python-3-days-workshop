{
  "cells": [
    {
      "cell_type": "code",
      "execution_count": 4,
      "metadata": {
        "id": "0WASqYdojLjQ",
        "outputId": "68b65645-713e-49a1-bc0a-42a3ebb04292",
        "colab": {
          "base_uri": "https://localhost:8080/"
        }
      },
      "outputs": [
        {
          "output_type": "stream",
          "name": "stdout",
          "text": [
            "Addition is : 15\n",
            "Multiplication is  50\n",
            "Division is : 2.0\n",
            "Subtraction is : 5\n"
          ]
        }
      ],
      "source": [
        "#To Perform Arithmatic Operations\n",
        "x = 10\n",
        "y= 5\n",
        "\n",
        "add = x+y\n",
        "mul= x*y\n",
        "div= x/y\n",
        "sub= x-y\n",
        "\n",
        "print(\"Addition is :\",add)\n",
        "print(\"Multiplication is \",mul)\n",
        "print(\"Division is :\",div)\n",
        "print(\"Subtraction is :\",sub)"
      ]
    },
    {
      "cell_type": "code",
      "execution_count": null,
      "metadata": {
        "colab": {
          "background_save": true
        },
        "id": "lFeiy_4EjLWn",
        "outputId": "05f4b7b1-884b-4b94-9486-4084ead3b934"
      },
      "outputs": [
        {
          "data": {
            "text/plain": [
              "137240281695056"
            ]
          },
          "execution_count": 10,
          "metadata": {},
          "output_type": "execute_result"
        }
      ],
      "source": [
        "#To check type of data and address\n",
        "num1 = 20\n",
        "type(num1)\n",
        "id(num1)"
      ]
    },
    {
      "cell_type": "code",
      "execution_count": 5,
      "metadata": {
        "id": "dN1Q9_vRjeWN",
        "outputId": "9219cfa9-a8c5-45b2-d57d-691381ee4499",
        "colab": {
          "base_uri": "https://localhost:8080/"
        }
      },
      "outputs": [
        {
          "output_type": "stream",
          "name": "stdout",
          "text": [
            "Name is : Ram Address is : 134608453977968 Type of Data <class 'str'>\n"
          ]
        }
      ],
      "source": [
        "\n",
        "name = \"Ram\"\n",
        "print(\"Name is :\",name,\"Address is :\",id(name),\"Type of Data\",type(name))"
      ]
    },
    {
      "cell_type": "code",
      "execution_count": null,
      "metadata": {
        "id": "pExFBGrDjeSb"
      },
      "outputs": [],
      "source": [
        "#How to write string\n",
        "str1= 'Hello'\n",
        "str2 = \"Hello\"\n",
        "str3 = '''Hello'''\n",
        "str4 = \"\"\"Hello\"\"\"\n",
        "\n",
        "print(str1)\n",
        "print(str2)\n",
        "print(str3)\n",
        "print(str4)"
      ]
    },
    {
      "cell_type": "code",
      "execution_count": 1,
      "metadata": {
        "id": "Lk7a8zdjjkRj",
        "outputId": "875c7a48-0da9-4992-a1e8-4e081c9f7fbd",
        "colab": {
          "base_uri": "https://localhost:8080/"
        }
      },
      "outputs": [
        {
          "output_type": "stream",
          "name": "stdout",
          "text": [
            "'Hello' ,   \"Dhanraj\",   How are you?\n"
          ]
        }
      ],
      "source": [
        "#Problem statement\n",
        "print(\"'Hello' , \", ''' \"Dhanraj\",  ''',\"How are you?\")"
      ]
    },
    {
      "cell_type": "code",
      "execution_count": 3,
      "metadata": {
        "id": "_FkS39_cjkOK",
        "outputId": "ca2212f0-014a-4880-d65e-0bc42132dc14",
        "colab": {
          "base_uri": "https://localhost:8080/"
        }
      },
      "outputs": [
        {
          "output_type": "stream",
          "name": "stdout",
          "text": [
            "<class 'int'>\n",
            "<class 'float'>\n",
            "<class 'bool'>\n",
            "<class 'complex'>\n"
          ]
        }
      ],
      "source": [
        "#to check type\n",
        "\n",
        "print(type(10))\n",
        "print(type(10.0))\n",
        "print(type(True))\n",
        "print(type(10+0j))"
      ]
    },
    {
      "cell_type": "code",
      "execution_count": 2,
      "metadata": {
        "id": "bUOsVnEZjkJ7",
        "outputId": "c8018015-1638-41b1-d025-d975d5520ca6",
        "colab": {
          "base_uri": "https://localhost:8080/"
        }
      },
      "outputs": [
        {
          "output_type": "stream",
          "name": "stdout",
          "text": [
            "Addition of  10 and 20 is: 30\n"
          ]
        }
      ],
      "source": [
        "num1 = 10\n",
        "num2= 20\n",
        "sum = num1 + num2\n",
        "\n",
        "print(\"Addition of \",num1, \"and\",num2,\"is:\",sum)"
      ]
    },
    {
      "cell_type": "code",
      "execution_count": null,
      "metadata": {
        "colab": {
          "base_uri": "https://localhost:8080/"
        },
        "id": "CoNdhWDHjLCo",
        "outputId": "df02395d-01a6-40f2-db2a-be600a11e4a4"
      },
      "outputs": [
        {
          "name": "stdout",
          "output_type": "stream",
          "text": [
            "Enter the number:2\n",
            "Area of circle is: 12.56\n"
          ]
        }
      ],
      "source": [
        "#area of circle\n",
        "\n",
        "radius =int (input(\"Enter the number:\"))\n",
        "area = 3.14*radius*radius\n",
        "print(\"Area of circle is:\",area)"
      ]
    },
    {
      "cell_type": "code",
      "execution_count": 6,
      "metadata": {
        "colab": {
          "base_uri": "https://localhost:8080/"
        },
        "id": "cJfIWEEEd34h",
        "outputId": "ea05724f-46cd-4ab0-c290-9809aef5b910"
      },
      "outputs": [
        {
          "output_type": "stream",
          "name": "stdout",
          "text": [
            "Enter the First Number:22\n",
            "Enter the Second Number: 56\n",
            "Enter the Third Number:35\n",
            "Result of the Equation 1 is:  -2652\n",
            "Result of the Equation 2  is:  6084\n",
            "Result of the Equation 3  is:  3620\n",
            "Result of the Equation 4 is:  1156\n",
            "Result of the Equation 5 is:  12769\n",
            "Result of the Equation 6 is:  4761\n",
            "Result of the Equation 7 is:  474552\n",
            "Result of the Equation 8 is:  -39304\n",
            "Result of the Equation 9 is:  -164968\n",
            "Result of the Equation 10 is:  186264\n",
            "Result of the Equation 11 is:  37015056\n",
            "Result of the Equation 12 is:  1336336\n",
            "Result of the Equation 13 is:  -9600240\n",
            "Result of the Equation 14 is:  -545578144\n"
          ]
        }
      ],
      "source": [
        "a= int(input(\"Enter the First Number:\"))\n",
        "b= int(input(\"Enter the Second Number: \"))\n",
        "c= int(input(\"Enter the Third Number:\"))\n",
        "\n",
        "result1= (a-b)*(a+b)\n",
        "print(\"Result of the Equation 1 is: \",result1)\n",
        "\n",
        "result2= (a**2)+(2*a*b)+(b**2)\n",
        "print(\"Result of the Equation 2  is: \",result2)\n",
        "\n",
        "result3= ((a+b)**2)-(2*a*b)\n",
        "print(\"Result of the Equation 3  is: \",result3)\n",
        "\n",
        "result4= (a**2)-(2*a*b)+(b**2)\n",
        "print(\"Result of the Equation 4 is: \",result4)\n",
        "\n",
        "result5= (a**2)+(b**2)+(c**2)+(2*a*b)+(2*b*c)+(2*a*c)\n",
        "print(\"Result of the Equation 5 is: \",result5)\n",
        "\n",
        "result6= (a**2)+(b**2)+(c**2)-(2*a*b)+(2*b*c)-(2*a*c)\n",
        "print(\"Result of the Equation 6 is: \",result6)\n",
        "\n",
        "result7= (a**3)+(3*(a**2)*b)+(3*a*(b**2))+ (b**3)\n",
        "print(\"Result of the Equation 7 is: \",result7)\n",
        "\n",
        "result8= (a**3)-(3*(a**2)*b)+(3*a*(b**2))- (b**3)\n",
        "print(\"Result of the Equation 8 is: \",result8)\n",
        "\n",
        "result9= (a-b)*((a**2)+(a*b)+(b**2))\n",
        "print(\"Result of the Equation 9 is: \",result9)\n",
        "\n",
        "result10= (a+b)*((a**2)-(a*b)+(b**2))\n",
        "print(\"Result of the Equation 10 is: \",result10)\n",
        "\n",
        "result11= (a**4)+(4*(a**3)*b)+(6*(a**2)*(b**2))+(4*a*(b**3))+(b**4)\n",
        "print(\"Result of the Equation 11 is: \",result11)\n",
        "\n",
        "result12= (a**4)-(4*(a**3)*b)+(6*(a**2)*(b**2))-(4*a*(b**3))+(b**4)\n",
        "print(\"Result of the Equation 12 is: \",result12)\n",
        "\n",
        "result13= (a-b)*(a+b)*((a**2)+(b**2))\n",
        "print(\"Result of the Equation 13 is: \",result13)\n",
        "\n",
        "result14= (a-b)*((a**4)+((a**3)*b)+((a**2)*(b**2))+(a*(b**3))+(b**4))\n",
        "print(\"Result of the Equation 14 is: \",result14)\n",
        "\n",
        "\n",
        "\n",
        "\n",
        "\n"
      ]
    },
    {
      "cell_type": "code",
      "execution_count": null,
      "metadata": {
        "colab": {
          "base_uri": "https://localhost:8080/"
        },
        "id": "Sye4nwiTmHai",
        "outputId": "86ba0fe1-ad98-4f1f-faf7-9e3fce9e9fee"
      },
      "outputs": [
        {
          "name": "stdout",
          "output_type": "stream",
          "text": [
            "False\n",
            "True\n"
          ]
        }
      ],
      "source": [
        "#use of \"is\" and \"not\" keywords\n",
        "a= 10\n",
        "b= 10\n",
        "print(a is not b)\n",
        "\n",
        "x= True\n",
        "y= True\n",
        "print(x is y)"
      ]
    },
    {
      "cell_type": "code",
      "execution_count": null,
      "metadata": {
        "colab": {
          "base_uri": "https://localhost:8080/"
        },
        "id": "DqpuVLRPmkhI",
        "outputId": "e9a24479-1598-4ddc-ba71-d8a4f23a6a36"
      },
      "outputs": [
        {
          "output_type": "stream",
          "name": "stdout",
          "text": [
            "True\n",
            "True\n",
            "False\n",
            "True\n"
          ]
        }
      ],
      "source": [
        "#use of \"in\" keyword\n",
        "\n",
        "x= \"Hello learning Python is very easy!\"\n",
        "\n",
        "print('H'in x)\n",
        "print(\"Python\"in x)\n",
        "print('L' in x)\n",
        "print('h'in x)"
      ]
    },
    {
      "cell_type": "code",
      "execution_count": 7,
      "metadata": {
        "colab": {
          "base_uri": "https://localhost:8080/"
        },
        "id": "KuWi5DnpmkcA",
        "outputId": "43f2f15b-477f-476c-d029-ca98cbaf62fb"
      },
      "outputs": [
        {
          "output_type": "stream",
          "name": "stdout",
          "text": [
            "314.1592653589793\n"
          ]
        }
      ],
      "source": [
        "#To print area of circle\n",
        "\n",
        "import math\n",
        "r= 10\n",
        "area = math.pi*(r**2)\n",
        "print(area)\n"
      ]
    },
    {
      "cell_type": "code",
      "source": [
        "#To calculate square root of number without taking input\n",
        "print(int(math.sqrt(25)))"
      ],
      "metadata": {
        "id": "pjE8Y3j887iu",
        "outputId": "4ccbd525-d086-46fe-ce5d-491aecea25d9",
        "colab": {
          "base_uri": "https://localhost:8080/"
        }
      },
      "execution_count": 8,
      "outputs": [
        {
          "output_type": "stream",
          "name": "stdout",
          "text": [
            "5\n"
          ]
        }
      ]
    },
    {
      "cell_type": "code",
      "execution_count": 9,
      "metadata": {
        "colab": {
          "base_uri": "https://localhost:8080/"
        },
        "id": "1y5KW9Zopw6-",
        "outputId": "ba84e9b5-edc8-4959-9a86-f7abd1af80ac"
      },
      "outputs": [
        {
          "output_type": "stream",
          "name": "stdout",
          "text": [
            "Enter First Number 2\n",
            "Enter second Number4\n",
            "Result:  6\n"
          ]
        }
      ],
      "source": [
        "print(\"Result: \",int(input(\"Enter First Number \"))+ int(input(\"Enter second Number\")))"
      ]
    },
    {
      "cell_type": "code",
      "execution_count": 10,
      "metadata": {
        "colab": {
          "base_uri": "https://localhost:8080/"
        },
        "id": "bbaYL9fiqMgb",
        "outputId": "a006486b-b005-4759-a4dc-9959a09de72b"
      },
      "outputs": [
        {
          "output_type": "stream",
          "name": "stdout",
          "text": [
            "Enter first number:55\n",
            "Enter the Second Number66\n",
            "Result:  121\n"
          ]
        }
      ],
      "source": [
        "a =int(input(\"Enter first number:\"))\n",
        "\n",
        "print(\"Result: \",a+int(input(\"Enter the Second Number\")))"
      ]
    },
    {
      "cell_type": "code",
      "execution_count": 11,
      "metadata": {
        "colab": {
          "base_uri": "https://localhost:8080/"
        },
        "id": "vRbOHrdFmHjx",
        "outputId": "22b2e3e1-1594-4e4b-825f-50f40704cdb8"
      },
      "outputs": [
        {
          "output_type": "stream",
          "name": "stdout",
          "text": [
            "Enter expression: 4/5*9+4\n",
            "11.2\n"
          ]
        }
      ],
      "source": [
        "# Use of built-in function: eval\n",
        "x= eval(input(\"Enter expression: \"))\n",
        "print(x)"
      ]
    },
    {
      "cell_type": "code",
      "execution_count": null,
      "metadata": {
        "colab": {
          "base_uri": "https://localhost:8080/"
        },
        "id": "jUPQZ63isJ_C",
        "outputId": "dbd433b0-6e59-45c6-83a1-2f5a850d26b9"
      },
      "outputs": [
        {
          "name": "stdout",
          "output_type": "stream",
          "text": [
            "1:55:99\n"
          ]
        }
      ],
      "source": [
        "a,b,c= 1,55,99\n",
        "print(a,b,c,sep= \":\")"
      ]
    },
    {
      "cell_type": "code",
      "execution_count": null,
      "metadata": {
        "colab": {
          "base_uri": "https://localhost:8080/"
        },
        "id": "SEK2GtE5sVmp",
        "outputId": "9167afe6-de4a-4f1b-c522-afeb47e9a03b"
      },
      "outputs": [
        {
          "name": "stdout",
          "output_type": "stream",
          "text": [
            "hello sir "
          ]
        }
      ],
      "source": [
        "#To join different print functions\n",
        "\n",
        "print(\"hello\",end=' ')\n",
        "print(\"sir\",end= ' ')\n"
      ]
    },
    {
      "cell_type": "code",
      "execution_count": null,
      "metadata": {
        "colab": {
          "base_uri": "https://localhost:8080/"
        },
        "id": "k5lpUkTqtPHo",
        "outputId": "858d9c49-a55d-4d59-ae33-97a8b0abf37e"
      },
      "outputs": [
        {
          "name": "stdout",
          "output_type": "stream",
          "text": [
            "a value is 10\n",
            "b value 20 is and c value is 30\n"
          ]
        }
      ],
      "source": [
        "a = 10\n",
        "b= 20\n",
        "c= 30\n",
        "\n",
        "print(\"a value is %i\"%a)\n",
        "print(\"b value %d is and c value is %d\" %(b,c))"
      ]
    },
    {
      "cell_type": "code",
      "execution_count": null,
      "metadata": {
        "colab": {
          "base_uri": "https://localhost:8080/"
        },
        "id": "EHpnz85due7v",
        "outputId": "6355f53e-3af3-4f17-da31-7c6b78d74a70"
      },
      "outputs": [
        {
          "output_type": "stream",
          "name": "stdout",
          "text": [
            "Hello Tushar your salary is 10000 and company Nvidia\n",
            "Hello Tushar your salary is 10000 and company is Nvidia\n"
          ]
        }
      ],
      "source": [
        "name= \"Tushar\"\n",
        "company= \"Nvidia\"\n",
        "salary = 10000\n",
        "\n",
        "print(\"Hello {0} your salary is {1} and company {2}\".format(name,salary,company))\n",
        "print(\"Hello {a} your salary is {b} and company is {c}\".format(a=name,b=salary , c=company))"
      ]
    },
    {
      "cell_type": "code",
      "execution_count": null,
      "metadata": {
        "colab": {
          "base_uri": "https://localhost:8080/"
        },
        "id": "xWyQqU90vePt",
        "outputId": "0bca0110-3397-4ed9-acfb-029bd0cd5988"
      },
      "outputs": [
        {
          "name": "stdout",
          "output_type": "stream",
          "text": [
            "Enter the Number:256\n",
            "Last digit is: 6\n"
          ]
        }
      ],
      "source": [
        "#Find last Digit of number\n",
        "\n",
        "no= int(input(\"Enter the Number:\"))\n",
        "res = no%10\n",
        "print(\"Last digit is:\",res)"
      ]
    },
    {
      "cell_type": "code",
      "execution_count": null,
      "metadata": {
        "colab": {
          "base_uri": "https://localhost:8080/"
        },
        "id": "o5X1WoGXxh65",
        "outputId": "7255c225-db8b-4ed4-e90c-d5cea83e884f"
      },
      "outputs": [
        {
          "name": "stdout",
          "output_type": "stream",
          "text": [
            "Enter two digit Number:22\n",
            "REsult: 4\n"
          ]
        }
      ],
      "source": [
        "#Add two digit of number\n",
        "\n",
        "a= int(input(\"Enter two digit Number:\"))\n",
        "n1= a//10\n",
        "n2= a%10\n",
        "\n",
        "print(\"REsult:\",n1+n2)\n"
      ]
    },
    {
      "cell_type": "code",
      "execution_count": null,
      "metadata": {
        "colab": {
          "base_uri": "https://localhost:8080/"
        },
        "id": "IXdkO_kJveHl",
        "outputId": "c30d1934-d84c-4a6e-f74f-e7c40af27902"
      },
      "outputs": [
        {
          "name": "stdout",
          "output_type": "stream",
          "text": [
            "Enter the Number:123\n",
            "Result : 6\n"
          ]
        }
      ],
      "source": [
        "#Add 3 digit of number\n",
        "\n",
        "no = int(input(\"Enter the Number:\"))\n",
        "n1= no%10\n",
        "no = no//10\n",
        "n2 = no%10\n",
        "no = no//10\n",
        "n3= no%10\n",
        "\n",
        "print(\"Result :\",n1+n2+n3)"
      ]
    },
    {
      "cell_type": "code",
      "execution_count": null,
      "metadata": {
        "colab": {
          "base_uri": "https://localhost:8080/"
        },
        "id": "3hUQkJP43rPU",
        "outputId": "10dcd8cc-1b4a-4350-c05f-c01636431d6d"
      },
      "outputs": [
        {
          "name": "stdout",
          "output_type": "stream",
          "text": [
            "Enter the number:12345\n",
            "Result : 15\n"
          ]
        }
      ],
      "source": [
        "#Sum of 5 digit number\n",
        "\n",
        "no = int(input(\"Enter the number:\"))\n",
        "\n",
        "n1= no%10\n",
        "no= no//10\n",
        "n2= no%10\n",
        "no= no//10\n",
        "n3= no%10\n",
        "no = no//10\n",
        "n4 = no%10\n",
        "no = no//10\n",
        "n5= no%10\n",
        "\n",
        "print(\"Result :\",n1+n2+n3+n4+n5)"
      ]
    },
    {
      "cell_type": "code",
      "execution_count": null,
      "metadata": {
        "colab": {
          "base_uri": "https://localhost:8080/"
        },
        "id": "78dqaUe563X4",
        "outputId": "0ba746d3-cd60-4292-8ce6-38b4e8967ac2"
      },
      "outputs": [
        {
          "name": "stdout",
          "output_type": "stream",
          "text": [
            "Enter the number:12356\n",
            "Result : 65321\n"
          ]
        }
      ],
      "source": [
        "#Reverse of 5 digit number\n",
        "\n",
        "no = int(input(\"Enter the number:\"))\n",
        "\n",
        "n1= no%10\n",
        "no= no//10\n",
        "n2= no%10\n",
        "no= no//10\n",
        "n3= no%10\n",
        "no = no//10\n",
        "n4 = no%10\n",
        "no = no//10\n",
        "n5= no%10\n",
        "\n",
        "rev= (n1*10000)+(n2*1000)+(n3*100)+(n4*10)+(n5*1)\n",
        "print(\"Result :\",rev)"
      ]
    },
    {
      "cell_type": "code",
      "execution_count": null,
      "metadata": {
        "colab": {
          "base_uri": "https://localhost:8080/"
        },
        "id": "4NY1T3AW83hM",
        "outputId": "56e9ba7f-7357-482d-afb0-f1f961d2b216"
      },
      "outputs": [
        {
          "name": "stdout",
          "output_type": "stream",
          "text": [
            "Before swapping a=  2 and b=  5\n",
            "After swapping a=  5 and b=  2\n"
          ]
        }
      ],
      "source": [
        "#swapping of two variable using third\n",
        "\n",
        "a=2\n",
        "b=5\n",
        "print(\"Before swapping a= \",a,\"and\",\"b= \",b)\n",
        "\n",
        "temp=a\n",
        "a=b\n",
        "b=temp\n",
        "print(\"After swapping a= \",a,\"and\",\"b= \",b)\n"
      ]
    },
    {
      "cell_type": "code",
      "execution_count": null,
      "metadata": {
        "colab": {
          "base_uri": "https://localhost:8080/"
        },
        "id": "_qvzoF7I9dJL",
        "outputId": "90985b01-0a13-44cb-b7b6-f2d1362d0b1d"
      },
      "outputs": [
        {
          "output_type": "stream",
          "name": "stdout",
          "text": [
            "Before swapping a= 2 and b= 3\n",
            "After swapping a= 3 and b= 2\n"
          ]
        }
      ],
      "source": [
        "#swapping of two variable without using third\n",
        "a=2\n",
        "b=3\n",
        "print(\"Before swapping a=\",a,\"and b=\",b)\n",
        "\n",
        "a= a+b\n",
        "b= a-b\n",
        "a= a-b\n",
        "print(\"After swapping a=\",a,\"and b=\",b)"
      ]
    },
    {
      "cell_type": "code",
      "execution_count": null,
      "metadata": {
        "colab": {
          "base_uri": "https://localhost:8080/"
        },
        "id": "Xs8o8xma-k3K",
        "outputId": "c14df33c-c622-4295-b810-53f91b3f2a10"
      },
      "outputs": [
        {
          "name": "stdout",
          "output_type": "stream",
          "text": [
            "Enter the Number:123456789\n",
            "Result: 10\n"
          ]
        }
      ],
      "source": [
        "#Addition of first and last digit of 9 digit number\n",
        "\n",
        "no = int(input(\"Enter the Number:\"))\n",
        "n1= no%10\n",
        "n2= no//100000000\n",
        "\n",
        "print(\"Result:\",n1+n2)"
      ]
    },
    {
      "cell_type": "code",
      "execution_count": null,
      "metadata": {
        "colab": {
          "base_uri": "https://localhost:8080/"
        },
        "id": "HRNDqOZ4AFaI",
        "outputId": "2a5c16ac-abde-46c6-bb97-cea82cbefd36"
      },
      "outputs": [
        {
          "name": "stdout",
          "output_type": "stream",
          "text": [
            "Enter th emarks of 1 paper: 50\n",
            "Enter th emarks of 2 paper: 50\n",
            "Enter th emarks of 3 paper: 98\n",
            "Enter th emarks of 4 paper: 89\n",
            "Enter th emarks of 5 paper: 58\n",
            "Total marks Obtained is  345 and parcentage is 69.0\n"
          ]
        }
      ],
      "source": [
        "#Accept 5 paper marksand find total marks and percentage\n",
        "\n",
        "p1= int(input(\"Enter th emarks of 1 paper: \"))\n",
        "p2= int(input(\"Enter th emarks of 2 paper: \"))\n",
        "p3= int(input(\"Enter th emarks of 3 paper: \"))\n",
        "p4= int(input(\"Enter th emarks of 4 paper: \"))\n",
        "p5= int(input(\"Enter th emarks of 5 paper: \"))\n",
        "\n",
        "total = p1+p2+p3+p4+p5\n",
        "parcentage= ((total/5))\n",
        "\n",
        "\n",
        "\n",
        "print(\"Total marks Obtained is \",total,\"and parcentage is\",parcentage)"
      ]
    },
    {
      "cell_type": "code",
      "execution_count": null,
      "metadata": {
        "colab": {
          "base_uri": "https://localhost:8080/"
        },
        "id": "isQ8lLumB0ie",
        "outputId": "adc57893-640f-4a25-d445-aaeb43661138"
      },
      "outputs": [
        {
          "output_type": "stream",
          "name": "stdout",
          "text": [
            "Enter the marks of 1st paper: 80\n",
            "Enter the marks of 2nd paper: 88\n",
            "Enter the marks of 3rd paper: 70\n",
            "Enter the marks of 4th paper: 92\n",
            "Enter the marks of 5th paper: 70\n",
            "_ _ _ _ _ _ _ _ _ _ __ _ _ _ _ __ _ _ _ _ _ _\n",
            "           R.C Patel School \n",
            "_ _ _ _ _ _ _ _ _ _ __ _ _ _ _ _\n",
            "Subjects \tTotal Marks \t Obtain Marks\n",
            "_ _ _ _ _ _ _ _ _ _ __ _ _ _ _ _ _ _ _ _ _ _ \n",
            "Math     \t   100               80\n",
            "Hindi    \t   100               88\n",
            "Marathi  \t   100               70\n",
            "AC       \t   100               92\n",
            "DSP      \t   100               70\n",
            "_ _ _ _ _ _ _ _ _ _ __ _ _ _ _ _ _ _ _ _ _ _ \n",
            "Total :  400         Parcentage : 80.0\n"
          ]
        }
      ],
      "source": [
        "#Print Result of Student\n",
        "\n",
        "p1= int(input(\"Enter the marks of 1st paper: \"))\n",
        "p2= int(input(\"Enter the marks of 2nd paper: \"))\n",
        "p3= int(input(\"Enter the marks of 3rd paper: \"))\n",
        "p4= int(input(\"Enter the marks of 4th paper: \"))\n",
        "p5= int(input(\"Enter the marks of 5th paper: \"))\n",
        "\n",
        "total = p1+p2+p3+p4+p5\n",
        "parcentage= ((total/5))\n",
        "\n",
        "print(\"_ _ _ _ _ _ _ _ _ _ __ _ _ _ _ __ _ _ _ _ _ _\")\n",
        "print(\"           R.C Patel School \")\n",
        "print(\"_ _ _ _ _ _ _ _ _ _ __ _ _ _ _ _\")\n",
        "print(\"Subjects \\tTotal Marks \\t Obtain Marks\")\n",
        "print(\"_ _ _ _ _ _ _ _ _ _ __ _ _ _ _ _ _ _ _ _ _ _ \")\n",
        "\n",
        "print(\"Math     \\t   100\", \"             \",     p1)\n",
        "print(\"Hindi    \\t   100\", \"             \",     p2)\n",
        "print(\"Marathi  \\t   100\", \"             \",     p3)\n",
        "print(\"AC       \\t   100\", \"             \",     p4)\n",
        "print(\"DSP      \\t   100\", \"             \",     p5)\n",
        "print(\"_ _ _ _ _ _ _ _ _ _ __ _ _ _ _ _ _ _ _ _ _ _ \")\n",
        "\n",
        "print(\"Total : \",total,\"       \",\"Parcentage :\",parcentage)\n",
        "\n"
      ]
    },
    {
      "cell_type": "code",
      "execution_count": null,
      "metadata": {
        "colab": {
          "base_uri": "https://localhost:8080/"
        },
        "id": "uDCVJQIlEicV",
        "outputId": "2fd87bea-f4b1-4758-e930-a1499fdc7ce8"
      },
      "outputs": [
        {
          "name": "stdout",
          "output_type": "stream",
          "text": [
            "Enter first number:45\n",
            "Enter second number:98\n",
            "Enter third number:15\n",
            "Enter fourth number:1\n",
            "Enter fifth number:99\n",
            "_ _ _ _ _ _ _ _ _ _ _ _ \n",
            "Maximun Number is:  99\n"
          ]
        }
      ],
      "source": [
        "#To check maximum number among 5 numbers\n",
        "\n",
        "n1 = int(input(\"Enter first number:\"))\n",
        "n2 = int(input(\"Enter second number:\"))\n",
        "n3 = int(input(\"Enter third number:\"))\n",
        "n4 = int(input(\"Enter fourth number:\"))\n",
        "n5 = int(input(\"Enter fifth number:\"))\n",
        "max= n1\n",
        "\n",
        "if max<n2:\n",
        "  max=n2\n",
        "if max<n3:\n",
        "  max= n3\n",
        "if max < n4:\n",
        "  max= n4\n",
        "if max < n5:\n",
        "  max=n5\n",
        "print(\"_ _ _ _ _ _ _ _ _ _ _ _ \")\n",
        "print(\"Maximun Number is: \",max)"
      ]
    },
    {
      "cell_type": "code",
      "execution_count": null,
      "metadata": {
        "colab": {
          "base_uri": "https://localhost:8080/"
        },
        "id": "gfePOLDcKC38",
        "outputId": "055d156e-a365-4580-8692-7cdb6b9e84aa"
      },
      "outputs": [
        {
          "name": "stdout",
          "output_type": "stream",
          "text": [
            "Enter first number:4\n",
            "Enter second number:5\n",
            "Enter third number:6\n",
            "Enter fourth number:7\n",
            "Enter fifth number:8\n",
            "_ _ _ _ _ _ _ _ _ _ _ _ \n",
            "Maximun Number is:  4\n"
          ]
        }
      ],
      "source": [
        "#Find the smallest Number among 5 numbers\n",
        "\n",
        "n1 = int(input(\"Enter first number:\"))\n",
        "n2 = int(input(\"Enter second number:\"))\n",
        "n3 = int(input(\"Enter third number:\"))\n",
        "n4 = int(input(\"Enter fourth number:\"))\n",
        "n5 = int(input(\"Enter fifth number:\"))\n",
        "min= n1\n",
        "\n",
        "if min>n2:\n",
        "  min=n2\n",
        "if min>n3:\n",
        "  min= n3\n",
        "if min > n4:\n",
        "  min= n4\n",
        "if min > n5:\n",
        "  min=n5\n",
        "print(\"_ _ _ _ _ _ _ _ _ _ _ _ \")\n",
        "print(\"Maximun Number is: \",min)"
      ]
    },
    {
      "cell_type": "code",
      "execution_count": null,
      "metadata": {
        "colab": {
          "base_uri": "https://localhost:8080/"
        },
        "id": "ZqJ5SG82Kw22",
        "outputId": "a993e4ae-f5ba-4f0c-db6e-3af20e1fdd69"
      },
      "outputs": [
        {
          "name": "stdout",
          "output_type": "stream",
          "text": [
            "Enter the Number:59\n",
            "Given Number is ODD\n"
          ]
        }
      ],
      "source": [
        "#To check number is even or Odd\n",
        "\n",
        "no = int(input(\"Enter the Number:\"))\n",
        "\n",
        "if no%2 == 0:\n",
        "  print(\"Given Number is Even\")\n",
        "else :\n",
        "  print(\"Given Number is ODD\")"
      ]
    },
    {
      "cell_type": "code",
      "execution_count": null,
      "metadata": {
        "colab": {
          "base_uri": "https://localhost:8080/"
        },
        "id": "MG2tqswVLelj",
        "outputId": "32dfa8f1-daa6-4bcc-e8a3-92ed01ad7375"
      },
      "outputs": [
        {
          "name": "stdout",
          "output_type": "stream",
          "text": [
            "Enter your age: 18\n",
            "Eligible for vote\n"
          ]
        }
      ],
      "source": [
        "#To check Voter is eligible for vote or not\n",
        "\n",
        "age = int(input(\"Enter your age: \"))\n",
        "\n",
        "if age >= 18:\n",
        "  print(\"Eligible for vote\")\n",
        "else:\n",
        "  print(\"Not eligible for vote\")"
      ]
    },
    {
      "cell_type": "code",
      "execution_count": 12,
      "metadata": {
        "colab": {
          "base_uri": "https://localhost:8080/"
        },
        "id": "lXOXNsjFM1tR",
        "outputId": "fe8636e2-f882-4906-846f-c2d496df75bb"
      },
      "outputs": [
        {
          "output_type": "stream",
          "name": "stdout",
          "text": [
            "Enter marks of paper 1: 65\n",
            "Enter marks of paper 2: 65\n",
            "Enter marks of paper 3: 22\n",
            "Fail\n"
          ]
        }
      ],
      "source": [
        "p1=int(input(\"Enter marks of paper 1: \"))\n",
        "p2=int(input(\"Enter marks of paper 2: \"))\n",
        "p3=int(input(\"Enter marks of paper 3: \"))\n",
        "\n",
        "if p1<45 or p2<45 or p3<45:\n",
        "  print(\"Fail\")\n",
        "else:\n",
        "  print(\"Pass\")\n"
      ]
    },
    {
      "cell_type": "code",
      "execution_count": null,
      "metadata": {
        "colab": {
          "base_uri": "https://localhost:8080/"
        },
        "id": "atp-nEbuNeT4",
        "outputId": "8d2b3f42-0d2a-4540-b718-dae98b3142b9"
      },
      "outputs": [
        {
          "name": "stdout",
          "output_type": "stream",
          "text": [
            "Enter marks: 52\n",
            "Enter marks: 60\n",
            "Enter marks: 62\n",
            "Enter gender (f/m): f\n",
            "Not Eligible for taking Addmission\n"
          ]
        }
      ],
      "source": [
        "\n",
        "p1=int(input(\"Enter marks: \"))\n",
        "p2=int(input(\"Enter marks: \"))\n",
        "p3=int(input(\"Enter marks: \"))\n",
        "\n",
        "total= p1+p2+p3\n",
        "par= total/3\n",
        "gender = input(\"Enter gender (f/m): \")\n",
        "\n",
        "if par >=62 and gender == \"f\":\n",
        "  print(\"Eligible for taking Addmission\")\n",
        "else :\n",
        "  print(\"Not Eligible for taking Addmission\")"
      ]
    },
    {
      "cell_type": "code",
      "execution_count": null,
      "metadata": {
        "colab": {
          "base_uri": "https://localhost:8080/"
        },
        "id": "6Lndq2QXM1ax",
        "outputId": "cfd14b4a-a2f4-4f5b-9599-de7cccf3cd79"
      },
      "outputs": [
        {
          "name": "stdout",
          "output_type": "stream",
          "text": [
            "Enter marks: 95\n",
            "Enter marks: 85\n",
            "Enter marks: 55\n",
            "Enter gender (f/m): m\n",
            "Eligible for taking Addmission\n"
          ]
        }
      ],
      "source": [
        "p1=int(input(\"Enter marks: \"))\n",
        "p2=int(input(\"Enter marks: \"))\n",
        "p3=int(input(\"Enter marks: \"))\n",
        "\n",
        "total= p1+p2+p3\n",
        "par= total/3\n",
        "gender = input(\"Enter gender (f/m): \")\n",
        "\n",
        "if par >=62 and gender == \"m\":\n",
        "  print(\"Eligible for taking Addmission\")\n",
        "else :\n",
        "  print(\"Not Eligible for taking Addmission\")"
      ]
    },
    {
      "cell_type": "code",
      "execution_count": null,
      "metadata": {
        "colab": {
          "base_uri": "https://localhost:8080/"
        },
        "id": "C5xMS1iiTqea",
        "outputId": "0e502acf-7fec-4fea-8799-a4de8f357a55"
      },
      "outputs": [
        {
          "name": "stdout",
          "output_type": "stream",
          "text": [
            "Enter day:monday\n",
            "Working Day\n"
          ]
        }
      ],
      "source": [
        "\n",
        "day = input(\"Enter day:\")\n",
        "\n",
        "if day == \"Saturday\" or day == \"Sunday\":\n",
        "  print(\"Weekend day\")\n",
        "else:\n",
        "  print(\"Working Day\")"
      ]
    }
  ],
  "metadata": {
    "colab": {
      "provenance": []
    },
    "kernelspec": {
      "display_name": "Python 3",
      "name": "python3"
    },
    "language_info": {
      "name": "python"
    }
  },
  "nbformat": 4,
  "nbformat_minor": 0
}