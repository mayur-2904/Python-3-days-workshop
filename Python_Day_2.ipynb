{
  "nbformat": 4,
  "nbformat_minor": 0,
  "metadata": {
    "colab": {
      "provenance": []
    },
    "kernelspec": {
      "name": "python3",
      "display_name": "Python 3"
    },
    "language_info": {
      "name": "python"
    }
  },
  "cells": [
    {
      "cell_type": "markdown",
      "source": [
        "For loop"
      ],
      "metadata": {
        "id": "qWGQPp3jzObP"
      }
    },
    {
      "cell_type": "code",
      "source": [
        "for i in range(10):\n",
        "  print(i)"
      ],
      "metadata": {
        "colab": {
          "base_uri": "https://localhost:8080/"
        },
        "id": "aWeYATA3tfy6",
        "outputId": "afa73c04-5897-4ef2-edd3-e33d3ab09193"
      },
      "execution_count": null,
      "outputs": [
        {
          "output_type": "stream",
          "name": "stdout",
          "text": [
            "0\n",
            "1\n",
            "2\n",
            "3\n",
            "4\n",
            "5\n",
            "6\n",
            "7\n",
            "8\n",
            "9\n"
          ]
        }
      ]
    },
    {
      "cell_type": "code",
      "source": [
        "for i in range(1,11):\n",
        "  print(i)"
      ],
      "metadata": {
        "colab": {
          "base_uri": "https://localhost:8080/"
        },
        "id": "pHjV5yysuaG7",
        "outputId": "ee0a9648-8f19-4a94-e61b-678ecaf53d2a"
      },
      "execution_count": null,
      "outputs": [
        {
          "output_type": "stream",
          "name": "stdout",
          "text": [
            "1\n",
            "2\n",
            "3\n",
            "4\n",
            "5\n",
            "6\n",
            "7\n",
            "8\n",
            "9\n",
            "10\n"
          ]
        }
      ]
    },
    {
      "cell_type": "code",
      "source": [
        "for i in range(1,11,2):\n",
        "  print(i)"
      ],
      "metadata": {
        "colab": {
          "base_uri": "https://localhost:8080/"
        },
        "id": "CtpUCLUFuQj8",
        "outputId": "75e12701-77c1-4a02-f8d9-8d4178a6f936"
      },
      "execution_count": null,
      "outputs": [
        {
          "output_type": "stream",
          "name": "stdout",
          "text": [
            "1\n",
            "3\n",
            "5\n",
            "7\n",
            "9\n"
          ]
        }
      ]
    },
    {
      "cell_type": "code",
      "source": [
        "for i in range (10,0,-1):\n",
        "  print(i)"
      ],
      "metadata": {
        "id": "hjI3PHaSuWtb",
        "colab": {
          "base_uri": "https://localhost:8080/"
        },
        "outputId": "a81122d9-b171-439e-e585-039a0ed9df4d"
      },
      "execution_count": null,
      "outputs": [
        {
          "output_type": "stream",
          "name": "stdout",
          "text": [
            "10\n",
            "9\n",
            "8\n",
            "7\n",
            "6\n",
            "5\n",
            "4\n",
            "3\n",
            "2\n",
            "1\n"
          ]
        }
      ]
    },
    {
      "cell_type": "code",
      "source": [
        "for i in range (10,0,-2):\n",
        "  print(i)"
      ],
      "metadata": {
        "id": "K3OA-p_Sutqp",
        "colab": {
          "base_uri": "https://localhost:8080/"
        },
        "outputId": "e2ced71c-aaf6-471d-9494-1fc14d8cd13c"
      },
      "execution_count": null,
      "outputs": [
        {
          "output_type": "stream",
          "name": "stdout",
          "text": [
            "10\n",
            "8\n",
            "6\n",
            "4\n",
            "2\n"
          ]
        }
      ]
    },
    {
      "cell_type": "code",
      "source": [
        "#sum of 1 to 10\n",
        "sum=0\n",
        "for i in range (1,11):\n",
        "  sum=sum+i\n",
        "\n",
        "print(sum)"
      ],
      "metadata": {
        "colab": {
          "base_uri": "https://localhost:8080/"
        },
        "id": "AT9XcWZixPHn",
        "outputId": "0ffab195-4b2c-4a0d-bc40-ee558895320b"
      },
      "execution_count": null,
      "outputs": [
        {
          "output_type": "stream",
          "name": "stdout",
          "text": [
            "55\n"
          ]
        }
      ]
    },
    {
      "cell_type": "code",
      "source": [
        "#To print single character from string\n",
        "s= \"MAYUR\"\n",
        "for i in s:\n",
        "  print(i)"
      ],
      "metadata": {
        "colab": {
          "base_uri": "https://localhost:8080/"
        },
        "id": "35B8xUO8xP5u",
        "outputId": "6d81f635-8526-4b82-e1b0-43648591c638"
      },
      "execution_count": null,
      "outputs": [
        {
          "output_type": "stream",
          "name": "stdout",
          "text": [
            "M\n",
            "A\n",
            "Y\n",
            "U\n",
            "R\n"
          ]
        }
      ]
    },
    {
      "cell_type": "code",
      "source": [
        "s= [12,22,23,27,30]\n",
        "\n",
        "for i in s:\n",
        "  print(i)"
      ],
      "metadata": {
        "colab": {
          "base_uri": "https://localhost:8080/"
        },
        "id": "dxkoHEITxP1Y",
        "outputId": "f1d70190-d2a7-4def-8d34-fa3760fc8d8d"
      },
      "execution_count": null,
      "outputs": [
        {
          "output_type": "stream",
          "name": "stdout",
          "text": [
            "12\n",
            "22\n",
            "23\n",
            "27\n",
            "30\n"
          ]
        }
      ]
    },
    {
      "cell_type": "markdown",
      "source": [
        "WHILE LOOP"
      ],
      "metadata": {
        "id": "-LhXhPeezMwR"
      }
    },
    {
      "cell_type": "code",
      "source": [
        "i=1\n",
        "while i<=10:\n",
        "  print(i)\n",
        "  i= i+1"
      ],
      "metadata": {
        "colab": {
          "base_uri": "https://localhost:8080/"
        },
        "id": "igGY_h7OxPuW",
        "outputId": "037c7e6c-5208-4a09-b2fb-1d727f6c754f"
      },
      "execution_count": null,
      "outputs": [
        {
          "output_type": "stream",
          "name": "stdout",
          "text": [
            "1\n",
            "2\n",
            "3\n",
            "4\n",
            "5\n",
            "6\n",
            "7\n",
            "8\n",
            "9\n",
            "10\n"
          ]
        }
      ]
    },
    {
      "cell_type": "code",
      "source": [
        "i=10\n",
        "while i>=1:\n",
        "  print(i)\n",
        "  i=i-1"
      ],
      "metadata": {
        "colab": {
          "base_uri": "https://localhost:8080/"
        },
        "id": "ofVbeiTwzugU",
        "outputId": "f233f806-80c3-49ad-8cc2-24c8eb650753"
      },
      "execution_count": null,
      "outputs": [
        {
          "output_type": "stream",
          "name": "stdout",
          "text": [
            "10\n",
            "9\n",
            "8\n",
            "7\n",
            "6\n",
            "5\n",
            "4\n",
            "3\n",
            "2\n",
            "1\n"
          ]
        }
      ]
    },
    {
      "cell_type": "code",
      "source": [
        "sum=0\n",
        "i=1\n",
        "while i<=10:\n",
        "  sum=sum+i\n",
        "  i=i+1\n",
        "print(\"sum:\",sum)"
      ],
      "metadata": {
        "colab": {
          "base_uri": "https://localhost:8080/"
        },
        "id": "O4QmpoFA0LEB",
        "outputId": "7dfac19d-0988-446d-bcd9-51f6494de4f5"
      },
      "execution_count": null,
      "outputs": [
        {
          "output_type": "stream",
          "name": "stdout",
          "text": [
            "sum: 55\n"
          ]
        }
      ]
    },
    {
      "cell_type": "code",
      "source": [
        "#To print even numbers from 1 t 100\n",
        "sum=0\n",
        "i=1\n",
        "while i<=100:\n",
        "  if i%2==0:\n",
        "    print(i)\n",
        "  i=i+1"
      ],
      "metadata": {
        "colab": {
          "base_uri": "https://localhost:8080/"
        },
        "id": "V6BhMpgz02sU",
        "outputId": "c527e6be-401b-4725-af14-4db02ee5bb9e"
      },
      "execution_count": null,
      "outputs": [
        {
          "output_type": "stream",
          "name": "stdout",
          "text": [
            "2\n",
            "4\n",
            "6\n",
            "8\n",
            "10\n",
            "12\n",
            "14\n",
            "16\n",
            "18\n",
            "20\n",
            "22\n",
            "24\n",
            "26\n",
            "28\n",
            "30\n",
            "32\n",
            "34\n",
            "36\n",
            "38\n",
            "40\n",
            "42\n",
            "44\n",
            "46\n",
            "48\n",
            "50\n",
            "52\n",
            "54\n",
            "56\n",
            "58\n",
            "60\n",
            "62\n",
            "64\n",
            "66\n",
            "68\n",
            "70\n",
            "72\n",
            "74\n",
            "76\n",
            "78\n",
            "80\n",
            "82\n",
            "84\n",
            "86\n",
            "88\n",
            "90\n",
            "92\n",
            "94\n",
            "96\n",
            "98\n",
            "100\n"
          ]
        }
      ]
    },
    {
      "cell_type": "markdown",
      "source": [
        "for loop : is used when range is given\n",
        "\n",
        "while loop: is used when range is not given\n",
        "\n",
        "\n"
      ],
      "metadata": {
        "id": "97IOz7vR2TuS"
      }
    },
    {
      "cell_type": "code",
      "source": [
        "#reverse the number\n",
        "\n",
        "no = int(input(\"Enter the number:\"))\n",
        "\n",
        "rev=0\n",
        "while no>0:\n",
        "  rem=no%10\n",
        "  rev= rev*10+rem\n",
        "  no=no//10\n",
        "\n",
        "print(\"Number is:\",rev)"
      ],
      "metadata": {
        "colab": {
          "base_uri": "https://localhost:8080/"
        },
        "id": "qiZfnUom1nF7",
        "outputId": "29eb5f98-a514-4108-af56-275b6af9a216"
      },
      "execution_count": null,
      "outputs": [
        {
          "output_type": "stream",
          "name": "stdout",
          "text": [
            "Enter the number:123\n",
            "Number is: 321\n"
          ]
        }
      ]
    },
    {
      "cell_type": "code",
      "source": [
        "#count the number of digit\n",
        "no=int(input(\"Enter the Number: \"))\n",
        "count=0\n",
        "while no>0:\n",
        "  no= no//10\n",
        "  count=count+1\n",
        "\n",
        "print(\"Result:\",count)\n",
        "\n"
      ],
      "metadata": {
        "id": "bkg0acce6VsO",
        "colab": {
          "base_uri": "https://localhost:8080/"
        },
        "outputId": "b5480235-c269-42b6-c69a-e6bb080b364b"
      },
      "execution_count": null,
      "outputs": [
        {
          "output_type": "stream",
          "name": "stdout",
          "text": [
            "Enter the Number: 8564610\n",
            "Result: 7\n"
          ]
        }
      ]
    },
    {
      "cell_type": "code",
      "source": [
        "#count the number of digit\n",
        "num= int (input (\"Enter the number:\"))\n",
        "count= 0\n",
        "while num>0:\n",
        "  rem= num%10\n",
        "  count+=1\n",
        "  num = num//10\n",
        "\n",
        "print(\"The count of a  number\" ,  \" is  -> \", count )"
      ],
      "metadata": {
        "colab": {
          "base_uri": "https://localhost:8080/"
        },
        "id": "tzwNuOfIG1Od",
        "outputId": "fa1b29b0-a961-4a8a-aabe-e8391aad98da"
      },
      "execution_count": null,
      "outputs": [
        {
          "output_type": "stream",
          "name": "stdout",
          "text": [
            "Enter the number:125\n",
            "The count of a  number  is  ->  3\n"
          ]
        }
      ]
    },
    {
      "cell_type": "code",
      "source": [
        "#Addition of digits from number\n",
        "\n",
        "sum=0\n",
        "no=int(input(\"Enter the number:\"))\n",
        "while no>0:\n",
        "  rem=no%10\n",
        "  sum=sum+rem\n",
        "  no=no//10\n",
        "\n",
        "print(sum)"
      ],
      "metadata": {
        "colab": {
          "base_uri": "https://localhost:8080/"
        },
        "id": "fV5fCLKGJGEh",
        "outputId": "f3026893-df44-46db-f15e-5ddce7a7c093"
      },
      "execution_count": null,
      "outputs": [
        {
          "output_type": "stream",
          "name": "stdout",
          "text": [
            "Enter the number:1234\n",
            "10\n"
          ]
        }
      ]
    },
    {
      "cell_type": "code",
      "source": [
        "#To find factorial of a number\n",
        "\n",
        "number= int(input(\"Enter the number:\"))\n",
        "fact=1\n",
        "while number>0:\n",
        "\n",
        "  fact= fact*number\n",
        "  number=number-1\n",
        "\n",
        "print(fact)\n"
      ],
      "metadata": {
        "colab": {
          "base_uri": "https://localhost:8080/"
        },
        "id": "V0sFYv-sJgeq",
        "outputId": "adbc51cc-1cdd-49e1-c000-8bed6966af27"
      },
      "execution_count": null,
      "outputs": [
        {
          "output_type": "stream",
          "name": "stdout",
          "text": [
            "Enter the number:5\n",
            "120\n"
          ]
        }
      ]
    },
    {
      "cell_type": "code",
      "source": [
        "#Take input and deside grade\n",
        "per= int(input(\"Enter Your Parcentage: \"))\n",
        "\n",
        "if per>90 and per<=100:\n",
        "  print(\"Grade A\")\n",
        "elif per>80 and per<=90:\n",
        "  print(\"Grade B\")\n",
        "elif per>70 and per<=80:\n",
        "  print(\"Grade C\")\n",
        "elif per>60 and per<=70:\n",
        "  print(\"Grade D\")\n",
        "elif per>50 and per<=60:\n",
        "  print(\"Grade E\")\n",
        "elif per>=40 and per<=50:\n",
        "  print(\"Grade F\")\n",
        "else:\n",
        "  print(\"You are Fail in Exam\")"
      ],
      "metadata": {
        "colab": {
          "base_uri": "https://localhost:8080/"
        },
        "id": "BZBkPrk-KgER",
        "outputId": "d273e568-2ee1-405e-e009-3be75c38b08f"
      },
      "execution_count": 1,
      "outputs": [
        {
          "output_type": "stream",
          "name": "stdout",
          "text": [
            "Enter Your Parcentage: 89\n",
            "Grade B\n"
          ]
        }
      ]
    },
    {
      "cell_type": "code",
      "source": [
        "#To check Armstrong number\n",
        "\n",
        "num = int(input(\"Enter the Number:\"))\n",
        "nsave=num\n",
        "sum=0\n",
        "\n",
        "while num>0:\n",
        "  rem= num%10\n",
        "  sum= sum+ (rem**3)\n",
        "  num= num//10\n",
        "\n",
        "if sum==nsave:\n",
        "  print(\"Armstrom Number\")\n",
        "else:\n",
        "  print(\"Not an armstrom number\")\n",
        "\n"
      ],
      "metadata": {
        "colab": {
          "base_uri": "https://localhost:8080/"
        },
        "id": "TmTNDMr6OgEX",
        "outputId": "9650f939-202a-4662-8796-7101b6b8fe76"
      },
      "execution_count": null,
      "outputs": [
        {
          "output_type": "stream",
          "name": "stdout",
          "text": [
            "Enter the Number:153\n",
            "Armstrom Number\n"
          ]
        }
      ]
    },
    {
      "cell_type": "code",
      "source": [
        "#to check palidrom sequence\n",
        "\n",
        "no= int(input(\"Enter the Number:\"))\n",
        "nsave=no\n",
        "rev=0\n",
        "\n",
        "while no>0:\n",
        "  rem= no%10\n",
        "  rev= (rev*10) +rem\n",
        "  no= no//10\n",
        "\n",
        "if nsave==rev:\n",
        "  print(\"Given sequence  is Palidrom\")\n",
        "else:\n",
        "  print(\"Given sequence  is not palidrom\")"
      ],
      "metadata": {
        "colab": {
          "base_uri": "https://localhost:8080/"
        },
        "id": "kvTOSOQrRhcg",
        "outputId": "8fd44cb2-2452-4e6f-9657-693206178ee3"
      },
      "execution_count": null,
      "outputs": [
        {
          "output_type": "stream",
          "name": "stdout",
          "text": [
            "Enter the Number:1234321\n",
            "Given sequence  is Palidrom\n"
          ]
        }
      ]
    },
    {
      "cell_type": "code",
      "source": [
        "#check armstrong or not for any digit\n",
        "\n",
        "sum=0\n",
        "num = int(input(\"Enter the Number:\"))\n",
        "nsave=num\n",
        "\n",
        "while num>0:\n",
        "  rem= num%10\n",
        "  sum= sum+(rem**3)\n",
        "  num= num//10\n",
        "\n",
        "if nsave==sum:\n",
        "  print(\"Armstrom Number\")\n",
        "else:\n",
        "  print(\"Not armstrom number\")"
      ],
      "metadata": {
        "id": "D27PqhEEULRm",
        "colab": {
          "base_uri": "https://localhost:8080/"
        },
        "outputId": "54946066-431d-45b8-9270-09630a830482"
      },
      "execution_count": null,
      "outputs": [
        {
          "output_type": "stream",
          "name": "stdout",
          "text": [
            "Enter the Number:153\n",
            "Armstrom Number\n"
          ]
        }
      ]
    },
    {
      "cell_type": "code",
      "source": [
        "#Print all armstrongs Number from 1 to 10000 and count it\n",
        "\n",
        "count = 0\n",
        "for num in range(1, 1001):\n",
        "    nsave = num\n",
        "    sum = 0\n",
        "\n",
        "    while num > 0:\n",
        "        rem = num % 10\n",
        "        sum += rem ** 3\n",
        "        num = num // 10\n",
        "\n",
        "    if sum == nsave:\n",
        "        print(nsave)\n",
        "        count += 1\n",
        "\n",
        "print(\"Count:\", count)\n"
      ],
      "metadata": {
        "id": "qnTbrWsnWZzz",
        "colab": {
          "base_uri": "https://localhost:8080/"
        },
        "outputId": "ebbfc062-eb04-4c37-ade0-cc03c71489d2"
      },
      "execution_count": null,
      "outputs": [
        {
          "output_type": "stream",
          "name": "stdout",
          "text": [
            "1\n",
            "153\n",
            "370\n",
            "371\n",
            "407\n",
            "Count: 5\n"
          ]
        }
      ]
    }
  ]
}